{
 "cells": [
  {
   "cell_type": "code",
   "execution_count": 31,
   "metadata": {},
   "outputs": [],
   "source": [
    "import numpy as np\n",
    "import pandas as pd\n",
    "import matplotlib.pyplot as plt\n",
    "import matplotlib.ticker as ticker\n",
    "import seaborn as sns"
   ]
  },
  {
   "cell_type": "code",
   "execution_count": 32,
   "metadata": {},
   "outputs": [],
   "source": [
    "data = pd.read_csv('kaggle_student_clear.csv', encoding = 'latin-1', sep = ';', \n",
    "                   decimal = ',', na_values = '---')"
   ]
  },
  {
   "cell_type": "code",
   "execution_count": 33,
   "metadata": {},
   "outputs": [
    {
     "data": {
      "text/html": [
       "<div>\n",
       "<style scoped>\n",
       "    .dataframe tbody tr th:only-of-type {\n",
       "        vertical-align: middle;\n",
       "    }\n",
       "\n",
       "    .dataframe tbody tr th {\n",
       "        vertical-align: top;\n",
       "    }\n",
       "\n",
       "    .dataframe thead th {\n",
       "        text-align: right;\n",
       "    }\n",
       "</style>\n",
       "<table border=\"1\" class=\"dataframe\">\n",
       "  <thead>\n",
       "    <tr style=\"text-align: right;\">\n",
       "      <th></th>\n",
       "      <th>Unnamed: 0</th>\n",
       "      <th>X</th>\n",
       "      <th>Institution</th>\n",
       "      <th>Course.Number</th>\n",
       "      <th>month</th>\n",
       "      <th>date</th>\n",
       "      <th>year</th>\n",
       "      <th>semester</th>\n",
       "      <th>Course.Title</th>\n",
       "      <th>Instructors</th>\n",
       "      <th>...</th>\n",
       "      <th>X..Played.Video</th>\n",
       "      <th>X..Posted.in.Forum</th>\n",
       "      <th>X..Grade.Higher.Than.Zero</th>\n",
       "      <th>Total.Course.Hours..Thousands.</th>\n",
       "      <th>Median.Hours.for.Certification</th>\n",
       "      <th>Median.Age</th>\n",
       "      <th>X..Male</th>\n",
       "      <th>X..Female</th>\n",
       "      <th>X..Bachelor.s.Degree.or.Higher</th>\n",
       "      <th>drop_outs</th>\n",
       "    </tr>\n",
       "  </thead>\n",
       "  <tbody>\n",
       "    <tr>\n",
       "      <th>0</th>\n",
       "      <td>1</td>\n",
       "      <td>1</td>\n",
       "      <td>MITx</td>\n",
       "      <td>6.002x</td>\n",
       "      <td>9</td>\n",
       "      <td>5</td>\n",
       "      <td>2012</td>\n",
       "      <td>Fall</td>\n",
       "      <td>Circuits and Electronics</td>\n",
       "      <td>Khurram Afridi</td>\n",
       "      <td>...</td>\n",
       "      <td>83.2</td>\n",
       "      <td>8.17</td>\n",
       "      <td>28.97</td>\n",
       "      <td>418.94</td>\n",
       "      <td>64.45</td>\n",
       "      <td>26.0</td>\n",
       "      <td>88.28</td>\n",
       "      <td>11.72</td>\n",
       "      <td>60.68</td>\n",
       "      <td>27671</td>\n",
       "    </tr>\n",
       "    <tr>\n",
       "      <th>1</th>\n",
       "      <td>2</td>\n",
       "      <td>2</td>\n",
       "      <td>MITx</td>\n",
       "      <td>6.00x</td>\n",
       "      <td>9</td>\n",
       "      <td>26</td>\n",
       "      <td>2012</td>\n",
       "      <td>Fall</td>\n",
       "      <td>Introduction to Computer Science and Programming</td>\n",
       "      <td>Eric Grimson</td>\n",
       "      <td>...</td>\n",
       "      <td>89.14</td>\n",
       "      <td>14.38</td>\n",
       "      <td>39.50</td>\n",
       "      <td>884.04</td>\n",
       "      <td>78.53</td>\n",
       "      <td>28.0</td>\n",
       "      <td>83.50</td>\n",
       "      <td>16.50</td>\n",
       "      <td>63.04</td>\n",
       "      <td>47977</td>\n",
       "    </tr>\n",
       "    <tr>\n",
       "      <th>2</th>\n",
       "      <td>3</td>\n",
       "      <td>3</td>\n",
       "      <td>MITx</td>\n",
       "      <td>6.00x</td>\n",
       "      <td>9</td>\n",
       "      <td>26</td>\n",
       "      <td>2012</td>\n",
       "      <td>Fall</td>\n",
       "      <td>Introduction to Computer Science and Programming</td>\n",
       "      <td>John Guttag</td>\n",
       "      <td>...</td>\n",
       "      <td>89.14</td>\n",
       "      <td>14.38</td>\n",
       "      <td>39.50</td>\n",
       "      <td>884.04</td>\n",
       "      <td>78.53</td>\n",
       "      <td>28.0</td>\n",
       "      <td>83.50</td>\n",
       "      <td>16.50</td>\n",
       "      <td>63.04</td>\n",
       "      <td>47977</td>\n",
       "    </tr>\n",
       "    <tr>\n",
       "      <th>3</th>\n",
       "      <td>4</td>\n",
       "      <td>4</td>\n",
       "      <td>MITx</td>\n",
       "      <td>6.00x</td>\n",
       "      <td>9</td>\n",
       "      <td>26</td>\n",
       "      <td>2012</td>\n",
       "      <td>Fall</td>\n",
       "      <td>Introduction to Computer Science and Programming</td>\n",
       "      <td>Chris Terman</td>\n",
       "      <td>...</td>\n",
       "      <td>89.14</td>\n",
       "      <td>14.38</td>\n",
       "      <td>39.50</td>\n",
       "      <td>884.04</td>\n",
       "      <td>78.53</td>\n",
       "      <td>28.0</td>\n",
       "      <td>83.50</td>\n",
       "      <td>16.50</td>\n",
       "      <td>63.04</td>\n",
       "      <td>47977</td>\n",
       "    </tr>\n",
       "    <tr>\n",
       "      <th>4</th>\n",
       "      <td>5</td>\n",
       "      <td>5</td>\n",
       "      <td>MITx</td>\n",
       "      <td>3.091x</td>\n",
       "      <td>10</td>\n",
       "      <td>9</td>\n",
       "      <td>2012</td>\n",
       "      <td>Fall</td>\n",
       "      <td>Introduction to Solid State Chemistry</td>\n",
       "      <td>Michael Cima</td>\n",
       "      <td>...</td>\n",
       "      <td>87.49</td>\n",
       "      <td>14.42</td>\n",
       "      <td>34.89</td>\n",
       "      <td>227.55</td>\n",
       "      <td>61.28</td>\n",
       "      <td>27.0</td>\n",
       "      <td>70.32</td>\n",
       "      <td>29.68</td>\n",
       "      <td>58.76</td>\n",
       "      <td>11726</td>\n",
       "    </tr>\n",
       "  </tbody>\n",
       "</table>\n",
       "<p>5 rows × 29 columns</p>\n",
       "</div>"
      ],
      "text/plain": [
       "   Unnamed: 0  X Institution Course.Number  month  date  year semester  \\\n",
       "0           1  1        MITx        6.002x      9     5  2012     Fall   \n",
       "1           2  2        MITx         6.00x      9    26  2012     Fall   \n",
       "2           3  3        MITx         6.00x      9    26  2012     Fall   \n",
       "3           4  4        MITx         6.00x      9    26  2012     Fall   \n",
       "4           5  5        MITx        3.091x     10     9  2012     Fall   \n",
       "\n",
       "                                       Course.Title     Instructors  ...  \\\n",
       "0                          Circuits and Electronics  Khurram Afridi  ...   \n",
       "1  Introduction to Computer Science and Programming    Eric Grimson  ...   \n",
       "2  Introduction to Computer Science and Programming     John Guttag  ...   \n",
       "3  Introduction to Computer Science and Programming    Chris Terman  ...   \n",
       "4             Introduction to Solid State Chemistry    Michael Cima  ...   \n",
       "\n",
       "  X..Played.Video  X..Posted.in.Forum  X..Grade.Higher.Than.Zero  \\\n",
       "0            83.2                8.17                      28.97   \n",
       "1           89.14               14.38                      39.50   \n",
       "2           89.14               14.38                      39.50   \n",
       "3           89.14               14.38                      39.50   \n",
       "4           87.49               14.42                      34.89   \n",
       "\n",
       "   Total.Course.Hours..Thousands.  Median.Hours.for.Certification  Median.Age  \\\n",
       "0                          418.94                           64.45        26.0   \n",
       "1                          884.04                           78.53        28.0   \n",
       "2                          884.04                           78.53        28.0   \n",
       "3                          884.04                           78.53        28.0   \n",
       "4                          227.55                           61.28        27.0   \n",
       "\n",
       "   X..Male  X..Female  X..Bachelor.s.Degree.or.Higher drop_outs  \n",
       "0    88.28      11.72                           60.68     27671  \n",
       "1    83.50      16.50                           63.04     47977  \n",
       "2    83.50      16.50                           63.04     47977  \n",
       "3    83.50      16.50                           63.04     47977  \n",
       "4    70.32      29.68                           58.76     11726  \n",
       "\n",
       "[5 rows x 29 columns]"
      ]
     },
     "execution_count": 33,
     "metadata": {},
     "output_type": "execute_result"
    }
   ],
   "source": [
    "data.head()"
   ]
  },
  {
   "cell_type": "code",
   "execution_count": 34,
   "metadata": {},
   "outputs": [],
   "source": [
    "data['X..Played.Video'] = data['X..Played.Video'].astype('float64')"
   ]
  },
  {
   "cell_type": "code",
   "execution_count": 35,
   "metadata": {},
   "outputs": [],
   "source": [
    "data = data.dropna()"
   ]
  },
  {
   "cell_type": "code",
   "execution_count": 36,
   "metadata": {},
   "outputs": [
    {
     "name": "stdout",
     "output_type": "stream",
     "text": [
      "<class 'pandas.core.frame.DataFrame'>\n",
      "Int64Index: 515 entries, 0 to 515\n",
      "Data columns (total 29 columns):\n",
      " #   Column                                         Non-Null Count  Dtype  \n",
      "---  ------                                         --------------  -----  \n",
      " 0   Unnamed: 0                                     515 non-null    int64  \n",
      " 1   X                                              515 non-null    int64  \n",
      " 2   Institution                                    515 non-null    object \n",
      " 3   Course.Number                                  515 non-null    object \n",
      " 4   month                                          515 non-null    int64  \n",
      " 5   date                                           515 non-null    int64  \n",
      " 6   year                                           515 non-null    int64  \n",
      " 7   semester                                       515 non-null    object \n",
      " 8   Course.Title                                   515 non-null    object \n",
      " 9   Instructors                                    515 non-null    object \n",
      " 10  Course.Subject                                 515 non-null    object \n",
      " 11  Year                                           515 non-null    int64  \n",
      " 12  Honor.Code.Certificates                        515 non-null    int64  \n",
      " 13  Participants..Course.Content.Accessed.         515 non-null    int64  \n",
      " 14  Audited....50..Course.Content.Accessed.        515 non-null    int64  \n",
      " 15  Certified                                      515 non-null    int64  \n",
      " 16  X..Audited                                     515 non-null    float64\n",
      " 17  X..Certified                                   515 non-null    float64\n",
      " 18  X..Certified.of...50..Course.Content.Accessed  515 non-null    float64\n",
      " 19  X..Played.Video                                515 non-null    float64\n",
      " 20  X..Posted.in.Forum                             515 non-null    float64\n",
      " 21  X..Grade.Higher.Than.Zero                      515 non-null    float64\n",
      " 22  Total.Course.Hours..Thousands.                 515 non-null    float64\n",
      " 23  Median.Hours.for.Certification                 515 non-null    float64\n",
      " 24  Median.Age                                     515 non-null    float64\n",
      " 25  X..Male                                        515 non-null    float64\n",
      " 26  X..Female                                      515 non-null    float64\n",
      " 27  X..Bachelor.s.Degree.or.Higher                 515 non-null    float64\n",
      " 28  drop_outs                                      515 non-null    int64  \n",
      "dtypes: float64(12), int64(11), object(6)\n",
      "memory usage: 120.7+ KB\n"
     ]
    }
   ],
   "source": [
    "data.info()"
   ]
  },
  {
   "cell_type": "markdown",
   "metadata": {},
   "source": [
    "Выбранный набор данных размещен: https://www.kaggle.com/kanikanarang94/mooc-kaggle-dataset"
   ]
  },
  {
   "cell_type": "markdown",
   "metadata": {},
   "source": [
    "Набор данных посвящен MOOC-образованию (от англ. «Massive Open Online Coursers») и охватывает платформу edX – совместный образовательный проект ученых Массачусетского технологического университета и Гарвардского университета, основанный в 2012 году.  \n",
    "Данные, представленные в наборе, относятся к периоду с 2012 по 2016 годы.\n"
   ]
  },
  {
   "cell_type": "markdown",
   "metadata": {},
   "source": [
    "Описание переменных:\n",
    "1. X - Обозначение курса.\n",
    "2. Institution - Обозначение университета, в котором проводился курс.\n",
    "3. Course.Number - Уникальный номер курса.\n",
    "4. month - Номер месяца, в котором начинался курс.\n",
    "5. date - Дата, в которую начинался курс.\n",
    "6. year - Год, в котором начинался курс.\n",
    "7. semester - Семестр, в котором проводился курс.\n",
    "8. Course.Title - Название курса.\n",
    "9. Instructors - ФИ преподавателей курса.\n",
    "10. Course.Subject - Области знаний, в рамках которых проводился курс.\n",
    "11. Year - Номер года обучения, в котором следует изучать данный курс.\n",
    "12. Honor.Code.Certificates - Показывает возможность получения бесплатного сертификата.\n",
    "13. Participants..Course.Content.Accessed. - Количество зарегистрированных учащихся на курс.\n",
    "14. Audited....50..Course.Content.Accessed. - Количество учащихся, которые прошли 50% курса.\n",
    "15. Certified - Количество студентов, которые получили сертификат.\n",
    "16. X..Audited - Доля тех, кто прошел ½ курса к общему количеству зарегистрированных учащихся (в %).\n",
    "17. X..Certified - Доля тех, кто получил сертификат к общему количеству зарегистрированных учащихся (в %).\n",
    "18. X..Certified.of..50.Course.Content.Accessed - Доля тех, кто получил сертификат среди тех, кто прошел ½ курса (в %).\n",
    "19. X..Played.Video - Доля тех, кто просматривал видео курса к общему количеству зарегистрированных учащихся (в %).\n",
    "20. X..Posted.in.Forum - Доля тех, кто писал на форуме курса к общему количеству зарегистрированных учащихся (в %).\n",
    "21. X..Grade.Higher.Than.Zero - Доля тех, кто завершил курс с баллами больше «0» к общему количеству зарегистрированных учащихся (в %).\n",
    "22. Total.Course.Hours..Thousands. - Количество часов (в тыс.), которые потратили на курс все зарегистрированные учащиеся.\n",
    "23. Median.Hours.for.Certification - Среднее значение часов, которое нужно потратить для того, чтобы получить сертификат.\n",
    "24. Median.Age - Среднее значение (медиана) возраста всех зарегистрированных учащихся на курс.\n",
    "25. X..Male - Доля мужчин к общему количеству зарегистрированных учащихся (в %).\n",
    "26. X..Female - Доля женщин к общему количеству зарегистрированных учащихся (в %).\n",
    "27. X..Bachelors.Degree.or.Higher -  Доля тех, кто имеет хотя бы степень бакалавра к общему количеству зарегистрированных учащихся (в %).\n",
    "28. drop_outs - Количество учащихся, которые бросили курс.\n",
    "\n",
    "\n",
    "\n",
    "\n",
    "\n",
    "\n",
    "\n",
    "\n",
    "\n",
    "\n",
    "\n",
    "\n"
   ]
  },
  {
   "cell_type": "markdown",
   "metadata": {},
   "source": [
    "## <center> Графики"
   ]
  },
  {
   "cell_type": "markdown",
   "metadata": {},
   "source": [
    "### <center> График № 1"
   ]
  },
  {
   "cell_type": "markdown",
   "metadata": {},
   "source": [
    "Тип переменной - числовая.\n",
    "Для одной переменной характер распределения данных удобнее всего смотреть на гистограмме."
   ]
  },
  {
   "cell_type": "code",
   "execution_count": 37,
   "metadata": {},
   "outputs": [
    {
     "data": {
      "text/plain": [
       "Text(0, 0.5, 'Количество курсов')"
      ]
     },
     "execution_count": 37,
     "metadata": {},
     "output_type": "execute_result"
    },
    {
     "data": {
      "image/png": "[encoded data removed]",
      "text/plain": [
       "<Figure size 432x288 with 1 Axes>"
      ]
     },
     "metadata": {
      "needs_background": "light"
     },
     "output_type": "display_data"
    }
   ],
   "source": [
    "ax = data['Participants..Course.Content.Accessed.'].hist(bins = 25)\n",
    "ax.set_title('Гистограмма количества зарегистрированных студентов на курс')\n",
    "ax.set_xlabel('Количество зарегистрированных на курс')\n",
    "ax.set_ylabel('Количество курсов')"
   ]
  },
  {
   "cell_type": "markdown",
   "metadata": {},
   "source": [
    "### <center> График № 2"
   ]
  },
  {
   "cell_type": "markdown",
   "metadata": {},
   "source": [
    "Видно, что есть отдельные курсы с большим количеством зарегистрированных пользователей. Для того, чтобы в этом убедиться, построим диаграмму размаха (boxplot)"
   ]
  },
  {
   "cell_type": "code",
   "execution_count": 38,
   "metadata": {},
   "outputs": [
    {
     "data": {
      "image/png": "[encoded data removed]",
      "text/plain": [
       "<Figure size 432x288 with 1 Axes>"
      ]
     },
     "metadata": {
      "needs_background": "light"
     },
     "output_type": "display_data"
    }
   ],
   "source": [
    "plt.boxplot((data['Participants..Course.Content.Accessed.']), \n",
    "            notch = False, sym = 'o', \n",
    "            labels = ['Количество зарегистрированных студентов на курс'])\n",
    "plt.show()"
   ]
  },
  {
   "cell_type": "markdown",
   "metadata": {},
   "source": [
    "Определим курсы, на которые было зарегистрировано очень большое количество студентов (>100000)."
   ]
  },
  {
   "cell_type": "code",
   "execution_count": 39,
   "metadata": {},
   "outputs": [
    {
     "data": {
      "text/html": [
       "<div>\n",
       "<style scoped>\n",
       "    .dataframe tbody tr th:only-of-type {\n",
       "        vertical-align: middle;\n",
       "    }\n",
       "\n",
       "    .dataframe tbody tr th {\n",
       "        vertical-align: top;\n",
       "    }\n",
       "\n",
       "    .dataframe thead th {\n",
       "        text-align: right;\n",
       "    }\n",
       "</style>\n",
       "<table border=\"1\" class=\"dataframe\">\n",
       "  <thead>\n",
       "    <tr style=\"text-align: right;\">\n",
       "      <th></th>\n",
       "      <th>Unnamed: 0</th>\n",
       "      <th>X</th>\n",
       "      <th>Institution</th>\n",
       "      <th>Course.Number</th>\n",
       "      <th>month</th>\n",
       "      <th>date</th>\n",
       "      <th>year</th>\n",
       "      <th>semester</th>\n",
       "      <th>Course.Title</th>\n",
       "      <th>Instructors</th>\n",
       "      <th>...</th>\n",
       "      <th>X..Played.Video</th>\n",
       "      <th>X..Posted.in.Forum</th>\n",
       "      <th>X..Grade.Higher.Than.Zero</th>\n",
       "      <th>Total.Course.Hours..Thousands.</th>\n",
       "      <th>Median.Hours.for.Certification</th>\n",
       "      <th>Median.Age</th>\n",
       "      <th>X..Male</th>\n",
       "      <th>X..Female</th>\n",
       "      <th>X..Bachelor.s.Degree.or.Higher</th>\n",
       "      <th>drop_outs</th>\n",
       "    </tr>\n",
       "  </thead>\n",
       "  <tbody>\n",
       "    <tr>\n",
       "      <th>5</th>\n",
       "      <td>6</td>\n",
       "      <td>6</td>\n",
       "      <td>HarvardX</td>\n",
       "      <td>CS50x</td>\n",
       "      <td>10</td>\n",
       "      <td>15</td>\n",
       "      <td>2012</td>\n",
       "      <td>Fall</td>\n",
       "      <td>Introduction to Computer Science</td>\n",
       "      <td>David Malan</td>\n",
       "      <td>...</td>\n",
       "      <td>0.00</td>\n",
       "      <td>0.0</td>\n",
       "      <td>1.11</td>\n",
       "      <td>220.90</td>\n",
       "      <td>0.0</td>\n",
       "      <td>28.0</td>\n",
       "      <td>80.02</td>\n",
       "      <td>19.98</td>\n",
       "      <td>58.78</td>\n",
       "      <td>115073</td>\n",
       "    </tr>\n",
       "    <tr>\n",
       "      <th>6</th>\n",
       "      <td>7</td>\n",
       "      <td>7</td>\n",
       "      <td>HarvardX</td>\n",
       "      <td>CS50x</td>\n",
       "      <td>10</td>\n",
       "      <td>15</td>\n",
       "      <td>2012</td>\n",
       "      <td>Fall</td>\n",
       "      <td>Introduction to Computer Science</td>\n",
       "      <td>Nate Hardison</td>\n",
       "      <td>...</td>\n",
       "      <td>0.00</td>\n",
       "      <td>0.0</td>\n",
       "      <td>1.11</td>\n",
       "      <td>220.90</td>\n",
       "      <td>0.0</td>\n",
       "      <td>28.0</td>\n",
       "      <td>80.02</td>\n",
       "      <td>19.98</td>\n",
       "      <td>58.78</td>\n",
       "      <td>115073</td>\n",
       "    </tr>\n",
       "    <tr>\n",
       "      <th>7</th>\n",
       "      <td>8</td>\n",
       "      <td>8</td>\n",
       "      <td>HarvardX</td>\n",
       "      <td>CS50x</td>\n",
       "      <td>10</td>\n",
       "      <td>15</td>\n",
       "      <td>2012</td>\n",
       "      <td>Fall</td>\n",
       "      <td>Introduction to Computer Science</td>\n",
       "      <td>Rob Bowden</td>\n",
       "      <td>...</td>\n",
       "      <td>0.00</td>\n",
       "      <td>0.0</td>\n",
       "      <td>1.11</td>\n",
       "      <td>220.90</td>\n",
       "      <td>0.0</td>\n",
       "      <td>28.0</td>\n",
       "      <td>80.02</td>\n",
       "      <td>19.98</td>\n",
       "      <td>58.78</td>\n",
       "      <td>115073</td>\n",
       "    </tr>\n",
       "    <tr>\n",
       "      <th>8</th>\n",
       "      <td>9</td>\n",
       "      <td>9</td>\n",
       "      <td>HarvardX</td>\n",
       "      <td>CS50x</td>\n",
       "      <td>10</td>\n",
       "      <td>15</td>\n",
       "      <td>2012</td>\n",
       "      <td>Fall</td>\n",
       "      <td>Introduction to Computer Science</td>\n",
       "      <td>Tommy MacWilliam</td>\n",
       "      <td>...</td>\n",
       "      <td>0.00</td>\n",
       "      <td>0.0</td>\n",
       "      <td>1.11</td>\n",
       "      <td>220.90</td>\n",
       "      <td>0.0</td>\n",
       "      <td>28.0</td>\n",
       "      <td>80.02</td>\n",
       "      <td>19.98</td>\n",
       "      <td>58.78</td>\n",
       "      <td>115073</td>\n",
       "    </tr>\n",
       "    <tr>\n",
       "      <th>9</th>\n",
       "      <td>10</td>\n",
       "      <td>10</td>\n",
       "      <td>HarvardX</td>\n",
       "      <td>CS50x</td>\n",
       "      <td>10</td>\n",
       "      <td>15</td>\n",
       "      <td>2012</td>\n",
       "      <td>Fall</td>\n",
       "      <td>Introduction to Computer Science</td>\n",
       "      <td>Zamyla Chan</td>\n",
       "      <td>...</td>\n",
       "      <td>0.00</td>\n",
       "      <td>0.0</td>\n",
       "      <td>1.11</td>\n",
       "      <td>220.90</td>\n",
       "      <td>0.0</td>\n",
       "      <td>28.0</td>\n",
       "      <td>80.02</td>\n",
       "      <td>19.98</td>\n",
       "      <td>58.78</td>\n",
       "      <td>115073</td>\n",
       "    </tr>\n",
       "    <tr>\n",
       "      <th>63</th>\n",
       "      <td>64</td>\n",
       "      <td>64</td>\n",
       "      <td>HarvardX</td>\n",
       "      <td>CS50x</td>\n",
       "      <td>1</td>\n",
       "      <td>1</td>\n",
       "      <td>2014</td>\n",
       "      <td>Spring</td>\n",
       "      <td>Introduction to Computer Science</td>\n",
       "      <td>David Malan</td>\n",
       "      <td>...</td>\n",
       "      <td>72.41</td>\n",
       "      <td>0.0</td>\n",
       "      <td>0.00</td>\n",
       "      <td>853.36</td>\n",
       "      <td>0.0</td>\n",
       "      <td>27.0</td>\n",
       "      <td>77.89</td>\n",
       "      <td>22.11</td>\n",
       "      <td>54.82</td>\n",
       "      <td>235475</td>\n",
       "    </tr>\n",
       "    <tr>\n",
       "      <th>155</th>\n",
       "      <td>156</td>\n",
       "      <td>156</td>\n",
       "      <td>HarvardX</td>\n",
       "      <td>CS50x</td>\n",
       "      <td>1</td>\n",
       "      <td>1</td>\n",
       "      <td>2015</td>\n",
       "      <td>Spring</td>\n",
       "      <td>Introduction to Computer Science</td>\n",
       "      <td>David Malan</td>\n",
       "      <td>...</td>\n",
       "      <td>67.80</td>\n",
       "      <td>0.0</td>\n",
       "      <td>0.00</td>\n",
       "      <td>275.96</td>\n",
       "      <td>0.0</td>\n",
       "      <td>25.0</td>\n",
       "      <td>77.68</td>\n",
       "      <td>22.32</td>\n",
       "      <td>51.95</td>\n",
       "      <td>273922</td>\n",
       "    </tr>\n",
       "  </tbody>\n",
       "</table>\n",
       "<p>7 rows × 29 columns</p>\n",
       "</div>"
      ],
      "text/plain": [
       "     Unnamed: 0    X Institution Course.Number  month  date  year semester  \\\n",
       "5             6    6    HarvardX         CS50x     10    15  2012     Fall   \n",
       "6             7    7    HarvardX         CS50x     10    15  2012     Fall   \n",
       "7             8    8    HarvardX         CS50x     10    15  2012     Fall   \n",
       "8             9    9    HarvardX         CS50x     10    15  2012     Fall   \n",
       "9            10   10    HarvardX         CS50x     10    15  2012     Fall   \n",
       "63           64   64    HarvardX         CS50x      1     1  2014   Spring   \n",
       "155         156  156    HarvardX         CS50x      1     1  2015   Spring   \n",
       "\n",
       "                         Course.Title       Instructors  ... X..Played.Video  \\\n",
       "5    Introduction to Computer Science       David Malan  ...            0.00   \n",
       "6    Introduction to Computer Science     Nate Hardison  ...            0.00   \n",
       "7    Introduction to Computer Science        Rob Bowden  ...            0.00   \n",
       "8    Introduction to Computer Science  Tommy MacWilliam  ...            0.00   \n",
       "9    Introduction to Computer Science       Zamyla Chan  ...            0.00   \n",
       "63   Introduction to Computer Science       David Malan  ...           72.41   \n",
       "155  Introduction to Computer Science       David Malan  ...           67.80   \n",
       "\n",
       "     X..Posted.in.Forum  X..Grade.Higher.Than.Zero  \\\n",
       "5                   0.0                       1.11   \n",
       "6                   0.0                       1.11   \n",
       "7                   0.0                       1.11   \n",
       "8                   0.0                       1.11   \n",
       "9                   0.0                       1.11   \n",
       "63                  0.0                       0.00   \n",
       "155                 0.0                       0.00   \n",
       "\n",
       "     Total.Course.Hours..Thousands.  Median.Hours.for.Certification  \\\n",
       "5                            220.90                             0.0   \n",
       "6                            220.90                             0.0   \n",
       "7                            220.90                             0.0   \n",
       "8                            220.90                             0.0   \n",
       "9                            220.90                             0.0   \n",
       "63                           853.36                             0.0   \n",
       "155                          275.96                             0.0   \n",
       "\n",
       "     Median.Age  X..Male  X..Female  X..Bachelor.s.Degree.or.Higher  drop_outs  \n",
       "5          28.0    80.02      19.98                           58.78     115073  \n",
       "6          28.0    80.02      19.98                           58.78     115073  \n",
       "7          28.0    80.02      19.98                           58.78     115073  \n",
       "8          28.0    80.02      19.98                           58.78     115073  \n",
       "9          28.0    80.02      19.98                           58.78     115073  \n",
       "63         27.0    77.89      22.11                           54.82     235475  \n",
       "155        25.0    77.68      22.32                           51.95     273922  \n",
       "\n",
       "[7 rows x 29 columns]"
      ]
     },
     "execution_count": 39,
     "metadata": {},
     "output_type": "execute_result"
    }
   ],
   "source": [
    "data_2 = data[data['Participants..Course.Content.Accessed.'] > 100000]\n",
    "data_2.head(10)"
   ]
  },
  {
   "cell_type": "markdown",
   "metadata": {},
   "source": [
    "Самый популярный у студентов курс проводился одним и тем же университетом и был посвящен одной и той же тематике - Introduction to Computer Science. Данный курс был популярен с 2012 по 2015 год вне зависимости от преподавателей на курсе."
   ]
  },
  {
   "cell_type": "markdown",
   "metadata": {},
   "source": [
    "### <center> График № 3"
   ]
  },
  {
   "cell_type": "markdown",
   "metadata": {},
   "source": [
    "Построим график средних значений доли успешно завершивсших курс по областям знаний и по годам."
   ]
  },
  {
   "cell_type": "markdown",
   "metadata": {},
   "source": [
    "Тип переменных:\n",
    "* год - категориальная;\n",
    "* область знаний - категориальная;\n",
    "* доля студентов, получивших сертификат - числовая."
   ]
  },
  {
   "cell_type": "markdown",
   "metadata": {},
   "source": [
    "Тип графика выбран такой, потому что необходимо посмотреть динамику доли студентов, успешно завершивших курс, по годам и по областям знаний."
   ]
  },
  {
   "cell_type": "code",
   "execution_count": 40,
   "metadata": {},
   "outputs": [
    {
     "data": {
      "text/plain": [
       "array(['Science, Technology, Engineering, and Mathematics',\n",
       "       'Computer Science', 'Government, Health, and Social Science',\n",
       "       'Humanities, History, Design, Religion, and Education'],\n",
       "      dtype=object)"
      ]
     },
     "execution_count": 40,
     "metadata": {},
     "output_type": "execute_result"
    }
   ],
   "source": [
    "data['Course.Subject'].unique()"
   ]
  },
  {
   "cell_type": "code",
   "execution_count": 41,
   "metadata": {},
   "outputs": [
    {
     "data": {
      "text/html": [
       "<div>\n",
       "<style scoped>\n",
       "    .dataframe tbody tr th:only-of-type {\n",
       "        vertical-align: middle;\n",
       "    }\n",
       "\n",
       "    .dataframe tbody tr th {\n",
       "        vertical-align: top;\n",
       "    }\n",
       "\n",
       "    .dataframe thead th {\n",
       "        text-align: right;\n",
       "    }\n",
       "</style>\n",
       "<table border=\"1\" class=\"dataframe\">\n",
       "  <thead>\n",
       "    <tr style=\"text-align: right;\">\n",
       "      <th>Course.Subject</th>\n",
       "      <th>Computer Science</th>\n",
       "      <th>Government, Health, and Social Science</th>\n",
       "      <th>Humanities, History, Design, Religion, and Education</th>\n",
       "      <th>Science, Technology, Engineering, and Mathematics</th>\n",
       "    </tr>\n",
       "    <tr>\n",
       "      <th>year</th>\n",
       "      <th></th>\n",
       "      <th></th>\n",
       "      <th></th>\n",
       "      <th></th>\n",
       "    </tr>\n",
       "  </thead>\n",
       "  <tbody>\n",
       "    <tr>\n",
       "      <th>2012</th>\n",
       "      <td>4.151250</td>\n",
       "      <td>9.640000</td>\n",
       "      <td>0.000000</td>\n",
       "      <td>10.405000</td>\n",
       "    </tr>\n",
       "    <tr>\n",
       "      <th>2013</th>\n",
       "      <td>7.496667</td>\n",
       "      <td>8.899286</td>\n",
       "      <td>5.597500</td>\n",
       "      <td>6.719600</td>\n",
       "    </tr>\n",
       "    <tr>\n",
       "      <th>2014</th>\n",
       "      <td>7.641818</td>\n",
       "      <td>10.370000</td>\n",
       "      <td>18.066500</td>\n",
       "      <td>3.411364</td>\n",
       "    </tr>\n",
       "    <tr>\n",
       "      <th>2015</th>\n",
       "      <td>6.219130</td>\n",
       "      <td>9.654464</td>\n",
       "      <td>12.890862</td>\n",
       "      <td>4.407465</td>\n",
       "    </tr>\n",
       "    <tr>\n",
       "      <th>2016</th>\n",
       "      <td>2.520000</td>\n",
       "      <td>6.931020</td>\n",
       "      <td>2.587619</td>\n",
       "      <td>1.798906</td>\n",
       "    </tr>\n",
       "  </tbody>\n",
       "</table>\n",
       "</div>"
      ],
      "text/plain": [
       "Course.Subject  Computer Science  Government, Health, and Social Science  \\\n",
       "year                                                                       \n",
       "2012                    4.151250                                9.640000   \n",
       "2013                    7.496667                                8.899286   \n",
       "2014                    7.641818                               10.370000   \n",
       "2015                    6.219130                                9.654464   \n",
       "2016                    2.520000                                6.931020   \n",
       "\n",
       "Course.Subject  Humanities, History, Design, Religion, and Education  \\\n",
       "year                                                                   \n",
       "2012                                                     0.000000      \n",
       "2013                                                     5.597500      \n",
       "2014                                                    18.066500      \n",
       "2015                                                    12.890862      \n",
       "2016                                                     2.587619      \n",
       "\n",
       "Course.Subject  Science, Technology, Engineering, and Mathematics  \n",
       "year                                                               \n",
       "2012                                                    10.405000  \n",
       "2013                                                     6.719600  \n",
       "2014                                                     3.411364  \n",
       "2015                                                     4.407465  \n",
       "2016                                                     1.798906  "
      ]
     },
     "execution_count": 41,
     "metadata": {},
     "output_type": "execute_result"
    }
   ],
   "source": [
    "year_subject_success = data.pivot_table(\n",
    "                        index='year', \n",
    "                        columns='Course.Subject', \n",
    "                        values='X..Certified', \n",
    "                        aggfunc= 'mean').fillna(0).applymap(float)\n",
    "\n",
    "year_subject_success"
   ]
  },
  {
   "cell_type": "code",
   "execution_count": 42,
   "metadata": {},
   "outputs": [
    {
     "data": {
      "image/png": "[encoded data removed]",
      "text/plain": [
       "<Figure size 1332x756 with 1 Axes>"
      ]
     },
     "metadata": {
      "needs_background": "light"
     },
     "output_type": "display_data"
    }
   ],
   "source": [
    "ax = year_subject_success.plot()\n",
    "fig = plt.gcf()\n",
    "fig.set_size_inches(18.5, 10.5)\n",
    "ax.legend(loc = 'upper right')\n",
    "ax.set_xlabel('Год')\n",
    "ax.xaxis.set_major_locator(ticker.MultipleLocator(1))"
   ]
  },
  {
   "cell_type": "markdown",
   "metadata": {},
   "source": [
    "Доля студентов, успешно завершивших курс, сначала возрастала, а после 2014 года стала убывать. Науки о здоровье, гос. управлении и соц. науки за весь период находятся примерно на одном и том же уровне."
   ]
  },
  {
   "cell_type": "markdown",
   "metadata": {},
   "source": [
    "### <center> График № 4"
   ]
  },
  {
   "cell_type": "markdown",
   "metadata": {},
   "source": [
    "Построим диаграмму размаха медианного значения трудоемкости курса по различным областям знаний."
   ]
  },
  {
   "cell_type": "markdown",
   "metadata": {},
   "source": [
    "Тип переменных:\n",
    "* медианное значение трудоемкости - числовая;\n",
    "* область знаний - категориальная."
   ]
  },
  {
   "cell_type": "markdown",
   "metadata": {},
   "source": [
    "Тип графика выбран в связи с тем, что boxplot позволяет сравнить значения трудоемкости для категорий областей знаний."
   ]
  },
  {
   "cell_type": "code",
   "execution_count": 43,
   "metadata": {},
   "outputs": [
    {
     "data": {
      "image/png": "[encoded data removed]",
      "text/plain": [
       "<Figure size 432x288 with 1 Axes>"
      ]
     },
     "metadata": {
      "needs_background": "light"
     },
     "output_type": "display_data"
    }
   ],
   "source": [
    "ax = sns.boxplot(x = 'Median.Hours.for.Certification', y = 'Course.Subject', \n",
    "            data = data)\n",
    "ax.set_xlabel('Медианное значение трудоемкости в часах')\n",
    "ax.set_ylabel('Области знаний')\n",
    "plt.show()"
   ]
  },
  {
   "cell_type": "markdown",
   "metadata": {},
   "source": [
    "Самыми трудоемкими являются курсы инженерной направленности, на втором месте находятся курсы о компьютерных науках.  \n",
    "Можно объянсить низкий процент слушателей, завершивших курс, в том числе и большой трудоемкостью курса."
   ]
  },
  {
   "cell_type": "markdown",
   "metadata": {},
   "source": [
    "Посмотри на самый \"зубодробительный\" курс"
   ]
  },
  {
   "cell_type": "code",
   "execution_count": 44,
   "metadata": {},
   "outputs": [
    {
     "data": {
      "text/html": [
       "<div>\n",
       "<style scoped>\n",
       "    .dataframe tbody tr th:only-of-type {\n",
       "        vertical-align: middle;\n",
       "    }\n",
       "\n",
       "    .dataframe tbody tr th {\n",
       "        vertical-align: top;\n",
       "    }\n",
       "\n",
       "    .dataframe thead th {\n",
       "        text-align: right;\n",
       "    }\n",
       "</style>\n",
       "<table border=\"1\" class=\"dataframe\">\n",
       "  <thead>\n",
       "    <tr style=\"text-align: right;\">\n",
       "      <th></th>\n",
       "      <th>Unnamed: 0</th>\n",
       "      <th>X</th>\n",
       "      <th>Institution</th>\n",
       "      <th>Course.Number</th>\n",
       "      <th>month</th>\n",
       "      <th>date</th>\n",
       "      <th>year</th>\n",
       "      <th>semester</th>\n",
       "      <th>Course.Title</th>\n",
       "      <th>Instructors</th>\n",
       "      <th>...</th>\n",
       "      <th>X..Played.Video</th>\n",
       "      <th>X..Posted.in.Forum</th>\n",
       "      <th>X..Grade.Higher.Than.Zero</th>\n",
       "      <th>Total.Course.Hours..Thousands.</th>\n",
       "      <th>Median.Hours.for.Certification</th>\n",
       "      <th>Median.Age</th>\n",
       "      <th>X..Male</th>\n",
       "      <th>X..Female</th>\n",
       "      <th>X..Bachelor.s.Degree.or.Higher</th>\n",
       "      <th>drop_outs</th>\n",
       "    </tr>\n",
       "  </thead>\n",
       "  <tbody>\n",
       "    <tr>\n",
       "      <th>183</th>\n",
       "      <td>184</td>\n",
       "      <td>184</td>\n",
       "      <td>MITx</td>\n",
       "      <td>8.05x</td>\n",
       "      <td>2</td>\n",
       "      <td>10</td>\n",
       "      <td>2015</td>\n",
       "      <td>Spring</td>\n",
       "      <td>Mastering Quantum Mechanics</td>\n",
       "      <td>Barton Zwiebach</td>\n",
       "      <td>...</td>\n",
       "      <td>71.33</td>\n",
       "      <td>8.03</td>\n",
       "      <td>16.57</td>\n",
       "      <td>187.44</td>\n",
       "      <td>251.82</td>\n",
       "      <td>26.0</td>\n",
       "      <td>87.19</td>\n",
       "      <td>12.81</td>\n",
       "      <td>64.49</td>\n",
       "      <td>9346</td>\n",
       "    </tr>\n",
       "  </tbody>\n",
       "</table>\n",
       "<p>1 rows × 29 columns</p>\n",
       "</div>"
      ],
      "text/plain": [
       "     Unnamed: 0    X Institution Course.Number  month  date  year semester  \\\n",
       "183         184  184        MITx         8.05x      2    10  2015   Spring   \n",
       "\n",
       "                    Course.Title      Instructors  ... X..Played.Video  \\\n",
       "183  Mastering Quantum Mechanics  Barton Zwiebach  ...           71.33   \n",
       "\n",
       "     X..Posted.in.Forum  X..Grade.Higher.Than.Zero  \\\n",
       "183                8.03                      16.57   \n",
       "\n",
       "     Total.Course.Hours..Thousands.  Median.Hours.for.Certification  \\\n",
       "183                          187.44                          251.82   \n",
       "\n",
       "     Median.Age  X..Male  X..Female  X..Bachelor.s.Degree.or.Higher  drop_outs  \n",
       "183        26.0    87.19      12.81                           64.49       9346  \n",
       "\n",
       "[1 rows x 29 columns]"
      ]
     },
     "execution_count": 44,
     "metadata": {},
     "output_type": "execute_result"
    }
   ],
   "source": [
    "data_3 = data[data['Median.Hours.for.Certification'] > 240]\n",
    "data_3"
   ]
  },
  {
   "cell_type": "code",
   "execution_count": 45,
   "metadata": {},
   "outputs": [
    {
     "data": {
      "text/plain": [
       "183    3.59\n",
       "Name: X..Certified, dtype: float64"
      ]
     },
     "execution_count": 45,
     "metadata": {},
     "output_type": "execute_result"
    }
   ],
   "source": [
    "data_3['X..Certified']"
   ]
  },
  {
   "cell_type": "markdown",
   "metadata": {},
   "source": [
    "Да, квантовая механика - это жестко."
   ]
  },
  {
   "cell_type": "markdown",
   "metadata": {},
   "source": [
    "### <center> График № 5"
   ]
  },
  {
   "cell_type": "markdown",
   "metadata": {},
   "source": [
    "Построим диаграмму рассеивания, чтобы проверить свое предположение о том, что с увеличением трудоемкости курса уменьшается процент слушателей, успешно завершивших курс."
   ]
  },
  {
   "cell_type": "markdown",
   "metadata": {},
   "source": [
    "Тип переменных:\n",
    "* медианное значение трудоемкости - числовая;\n",
    "* доля студентов, получивших сертификат - числовая."
   ]
  },
  {
   "cell_type": "markdown",
   "metadata": {},
   "source": [
    "Диаграмма рассеивания выбрана для того, чтобы посмотреть взаимосвязь между двумя числовыми переменными."
   ]
  },
  {
   "cell_type": "code",
   "execution_count": 46,
   "metadata": {},
   "outputs": [
    {
     "data": {
      "image/png": "[encoded data removed]",
      "text/plain": [
       "<Figure size 432x288 with 1 Axes>"
      ]
     },
     "metadata": {
      "needs_background": "light"
     },
     "output_type": "display_data"
    }
   ],
   "source": [
    "ax = sns.scatterplot(x = 'Median.Hours.for.Certification', y = 'X..Certified', data = data)"
   ]
  },
  {
   "cell_type": "markdown",
   "metadata": {},
   "source": [
    "Предположение верно.  \n",
    "Посмотрим на самый \"лайтовый\" курс."
   ]
  },
  {
   "cell_type": "code",
   "execution_count": 47,
   "metadata": {},
   "outputs": [
    {
     "data": {
      "text/html": [
       "<div>\n",
       "<style scoped>\n",
       "    .dataframe tbody tr th:only-of-type {\n",
       "        vertical-align: middle;\n",
       "    }\n",
       "\n",
       "    .dataframe tbody tr th {\n",
       "        vertical-align: top;\n",
       "    }\n",
       "\n",
       "    .dataframe thead th {\n",
       "        text-align: right;\n",
       "    }\n",
       "</style>\n",
       "<table border=\"1\" class=\"dataframe\">\n",
       "  <thead>\n",
       "    <tr style=\"text-align: right;\">\n",
       "      <th></th>\n",
       "      <th>Unnamed: 0</th>\n",
       "      <th>X</th>\n",
       "      <th>Institution</th>\n",
       "      <th>Course.Number</th>\n",
       "      <th>month</th>\n",
       "      <th>date</th>\n",
       "      <th>year</th>\n",
       "      <th>semester</th>\n",
       "      <th>Course.Title</th>\n",
       "      <th>Instructors</th>\n",
       "      <th>...</th>\n",
       "      <th>X..Played.Video</th>\n",
       "      <th>X..Posted.in.Forum</th>\n",
       "      <th>X..Grade.Higher.Than.Zero</th>\n",
       "      <th>Total.Course.Hours..Thousands.</th>\n",
       "      <th>Median.Hours.for.Certification</th>\n",
       "      <th>Median.Age</th>\n",
       "      <th>X..Male</th>\n",
       "      <th>X..Female</th>\n",
       "      <th>X..Bachelor.s.Degree.or.Higher</th>\n",
       "      <th>drop_outs</th>\n",
       "    </tr>\n",
       "  </thead>\n",
       "  <tbody>\n",
       "    <tr>\n",
       "      <th>73</th>\n",
       "      <td>74</td>\n",
       "      <td>74</td>\n",
       "      <td>HarvardX</td>\n",
       "      <td>SW12.3x</td>\n",
       "      <td>2</td>\n",
       "      <td>13</td>\n",
       "      <td>2014</td>\n",
       "      <td>Spring</td>\n",
       "      <td>Cosmopolitan Tang: Aristocratic Culture</td>\n",
       "      <td>Peter Bol</td>\n",
       "      <td>...</td>\n",
       "      <td>77.16</td>\n",
       "      <td>29.14</td>\n",
       "      <td>50.29</td>\n",
       "      <td>33.76</td>\n",
       "      <td>8.99</td>\n",
       "      <td>34.0</td>\n",
       "      <td>58.97</td>\n",
       "      <td>41.03</td>\n",
       "      <td>79.40</td>\n",
       "      <td>1975</td>\n",
       "    </tr>\n",
       "    <tr>\n",
       "      <th>74</th>\n",
       "      <td>75</td>\n",
       "      <td>75</td>\n",
       "      <td>HarvardX</td>\n",
       "      <td>SW12.3x</td>\n",
       "      <td>2</td>\n",
       "      <td>13</td>\n",
       "      <td>2014</td>\n",
       "      <td>Spring</td>\n",
       "      <td>Cosmopolitan Tang: Aristocratic Culture</td>\n",
       "      <td>Bill Kirby</td>\n",
       "      <td>...</td>\n",
       "      <td>77.16</td>\n",
       "      <td>29.14</td>\n",
       "      <td>50.29</td>\n",
       "      <td>33.76</td>\n",
       "      <td>8.99</td>\n",
       "      <td>34.0</td>\n",
       "      <td>58.97</td>\n",
       "      <td>41.03</td>\n",
       "      <td>79.40</td>\n",
       "      <td>1975</td>\n",
       "    </tr>\n",
       "    <tr>\n",
       "      <th>101</th>\n",
       "      <td>102</td>\n",
       "      <td>102</td>\n",
       "      <td>HarvardX</td>\n",
       "      <td>SW12.5x</td>\n",
       "      <td>4</td>\n",
       "      <td>24</td>\n",
       "      <td>2014</td>\n",
       "      <td>Spring</td>\n",
       "      <td>From Global Empire to Global Economy</td>\n",
       "      <td>Peter Bol</td>\n",
       "      <td>...</td>\n",
       "      <td>75.32</td>\n",
       "      <td>28.69</td>\n",
       "      <td>48.95</td>\n",
       "      <td>24.76</td>\n",
       "      <td>9.09</td>\n",
       "      <td>35.0</td>\n",
       "      <td>64.35</td>\n",
       "      <td>35.65</td>\n",
       "      <td>82.04</td>\n",
       "      <td>921</td>\n",
       "    </tr>\n",
       "    <tr>\n",
       "      <th>102</th>\n",
       "      <td>103</td>\n",
       "      <td>103</td>\n",
       "      <td>HarvardX</td>\n",
       "      <td>SW12.5x</td>\n",
       "      <td>4</td>\n",
       "      <td>24</td>\n",
       "      <td>2014</td>\n",
       "      <td>Spring</td>\n",
       "      <td>From Global Empire to Global Economy</td>\n",
       "      <td>Bill Kirby</td>\n",
       "      <td>...</td>\n",
       "      <td>75.32</td>\n",
       "      <td>28.69</td>\n",
       "      <td>48.95</td>\n",
       "      <td>24.76</td>\n",
       "      <td>9.09</td>\n",
       "      <td>35.0</td>\n",
       "      <td>64.35</td>\n",
       "      <td>35.65</td>\n",
       "      <td>82.04</td>\n",
       "      <td>921</td>\n",
       "    </tr>\n",
       "    <tr>\n",
       "      <th>105</th>\n",
       "      <td>106</td>\n",
       "      <td>106</td>\n",
       "      <td>HarvardX</td>\n",
       "      <td>SW12.6x</td>\n",
       "      <td>5</td>\n",
       "      <td>22</td>\n",
       "      <td>2014</td>\n",
       "      <td>Summer</td>\n",
       "      <td>The Last Empire</td>\n",
       "      <td>Peter Bol</td>\n",
       "      <td>...</td>\n",
       "      <td>76.75</td>\n",
       "      <td>24.22</td>\n",
       "      <td>49.72</td>\n",
       "      <td>31.69</td>\n",
       "      <td>11.70</td>\n",
       "      <td>35.0</td>\n",
       "      <td>60.97</td>\n",
       "      <td>39.03</td>\n",
       "      <td>80.56</td>\n",
       "      <td>1565</td>\n",
       "    </tr>\n",
       "    <tr>\n",
       "      <th>106</th>\n",
       "      <td>107</td>\n",
       "      <td>107</td>\n",
       "      <td>HarvardX</td>\n",
       "      <td>SW12.6x</td>\n",
       "      <td>5</td>\n",
       "      <td>22</td>\n",
       "      <td>2014</td>\n",
       "      <td>Summer</td>\n",
       "      <td>The Last Empire</td>\n",
       "      <td>Bill Kirby</td>\n",
       "      <td>...</td>\n",
       "      <td>76.75</td>\n",
       "      <td>24.22</td>\n",
       "      <td>49.72</td>\n",
       "      <td>31.69</td>\n",
       "      <td>11.70</td>\n",
       "      <td>35.0</td>\n",
       "      <td>60.97</td>\n",
       "      <td>39.03</td>\n",
       "      <td>80.56</td>\n",
       "      <td>1565</td>\n",
       "    </tr>\n",
       "    <tr>\n",
       "      <th>126</th>\n",
       "      <td>127</td>\n",
       "      <td>127</td>\n",
       "      <td>HarvardX</td>\n",
       "      <td>SW12.7x</td>\n",
       "      <td>9</td>\n",
       "      <td>4</td>\n",
       "      <td>2014</td>\n",
       "      <td>Fall</td>\n",
       "      <td>Invasions, Rebellions, and the end of Imperial...</td>\n",
       "      <td>Peter Bol</td>\n",
       "      <td>...</td>\n",
       "      <td>80.08</td>\n",
       "      <td>33.98</td>\n",
       "      <td>52.26</td>\n",
       "      <td>22.93</td>\n",
       "      <td>8.68</td>\n",
       "      <td>38.0</td>\n",
       "      <td>63.87</td>\n",
       "      <td>36.13</td>\n",
       "      <td>82.25</td>\n",
       "      <td>1009</td>\n",
       "    </tr>\n",
       "    <tr>\n",
       "      <th>127</th>\n",
       "      <td>128</td>\n",
       "      <td>128</td>\n",
       "      <td>HarvardX</td>\n",
       "      <td>SW12.7x</td>\n",
       "      <td>9</td>\n",
       "      <td>4</td>\n",
       "      <td>2014</td>\n",
       "      <td>Fall</td>\n",
       "      <td>Invasions, Rebellions, and the end of Imperial...</td>\n",
       "      <td>Bill Kirby</td>\n",
       "      <td>...</td>\n",
       "      <td>80.08</td>\n",
       "      <td>33.98</td>\n",
       "      <td>52.26</td>\n",
       "      <td>22.93</td>\n",
       "      <td>8.68</td>\n",
       "      <td>38.0</td>\n",
       "      <td>63.87</td>\n",
       "      <td>36.13</td>\n",
       "      <td>82.25</td>\n",
       "      <td>1009</td>\n",
       "    </tr>\n",
       "    <tr>\n",
       "      <th>143</th>\n",
       "      <td>144</td>\n",
       "      <td>144</td>\n",
       "      <td>HarvardX</td>\n",
       "      <td>SW12.8x</td>\n",
       "      <td>10</td>\n",
       "      <td>9</td>\n",
       "      <td>2014</td>\n",
       "      <td>Fall</td>\n",
       "      <td>Creating China: The Birth of a Nation</td>\n",
       "      <td>Peter Bol</td>\n",
       "      <td>...</td>\n",
       "      <td>78.36</td>\n",
       "      <td>31.46</td>\n",
       "      <td>51.05</td>\n",
       "      <td>23.92</td>\n",
       "      <td>9.54</td>\n",
       "      <td>37.0</td>\n",
       "      <td>64.33</td>\n",
       "      <td>35.67</td>\n",
       "      <td>82.68</td>\n",
       "      <td>906</td>\n",
       "    </tr>\n",
       "    <tr>\n",
       "      <th>144</th>\n",
       "      <td>145</td>\n",
       "      <td>145</td>\n",
       "      <td>HarvardX</td>\n",
       "      <td>SW12.8x</td>\n",
       "      <td>10</td>\n",
       "      <td>9</td>\n",
       "      <td>2014</td>\n",
       "      <td>Fall</td>\n",
       "      <td>Creating China: The Birth of a Nation</td>\n",
       "      <td>Bill Kirby</td>\n",
       "      <td>...</td>\n",
       "      <td>78.36</td>\n",
       "      <td>31.46</td>\n",
       "      <td>51.05</td>\n",
       "      <td>23.92</td>\n",
       "      <td>9.54</td>\n",
       "      <td>37.0</td>\n",
       "      <td>64.33</td>\n",
       "      <td>35.67</td>\n",
       "      <td>82.68</td>\n",
       "      <td>906</td>\n",
       "    </tr>\n",
       "    <tr>\n",
       "      <th>153</th>\n",
       "      <td>154</td>\n",
       "      <td>154</td>\n",
       "      <td>HarvardX</td>\n",
       "      <td>SW12.9x</td>\n",
       "      <td>11</td>\n",
       "      <td>20</td>\n",
       "      <td>2014</td>\n",
       "      <td>Fall</td>\n",
       "      <td>Communist Liberations</td>\n",
       "      <td>Peter Bol</td>\n",
       "      <td>...</td>\n",
       "      <td>79.76</td>\n",
       "      <td>30.14</td>\n",
       "      <td>50.49</td>\n",
       "      <td>23.03</td>\n",
       "      <td>9.76</td>\n",
       "      <td>37.0</td>\n",
       "      <td>67.11</td>\n",
       "      <td>32.89</td>\n",
       "      <td>82.98</td>\n",
       "      <td>971</td>\n",
       "    </tr>\n",
       "    <tr>\n",
       "      <th>154</th>\n",
       "      <td>155</td>\n",
       "      <td>155</td>\n",
       "      <td>HarvardX</td>\n",
       "      <td>SW12.9x</td>\n",
       "      <td>11</td>\n",
       "      <td>20</td>\n",
       "      <td>2014</td>\n",
       "      <td>Fall</td>\n",
       "      <td>Communist Liberations</td>\n",
       "      <td>Bill Kirby</td>\n",
       "      <td>...</td>\n",
       "      <td>79.76</td>\n",
       "      <td>30.14</td>\n",
       "      <td>50.49</td>\n",
       "      <td>23.03</td>\n",
       "      <td>9.76</td>\n",
       "      <td>37.0</td>\n",
       "      <td>67.11</td>\n",
       "      <td>32.89</td>\n",
       "      <td>82.98</td>\n",
       "      <td>971</td>\n",
       "    </tr>\n",
       "  </tbody>\n",
       "</table>\n",
       "<p>12 rows × 29 columns</p>\n",
       "</div>"
      ],
      "text/plain": [
       "     Unnamed: 0    X Institution Course.Number  month  date  year semester  \\\n",
       "73           74   74    HarvardX       SW12.3x      2    13  2014   Spring   \n",
       "74           75   75    HarvardX       SW12.3x      2    13  2014   Spring   \n",
       "101         102  102    HarvardX       SW12.5x      4    24  2014   Spring   \n",
       "102         103  103    HarvardX       SW12.5x      4    24  2014   Spring   \n",
       "105         106  106    HarvardX       SW12.6x      5    22  2014   Summer   \n",
       "106         107  107    HarvardX       SW12.6x      5    22  2014   Summer   \n",
       "126         127  127    HarvardX       SW12.7x      9     4  2014     Fall   \n",
       "127         128  128    HarvardX       SW12.7x      9     4  2014     Fall   \n",
       "143         144  144    HarvardX       SW12.8x     10     9  2014     Fall   \n",
       "144         145  145    HarvardX       SW12.8x     10     9  2014     Fall   \n",
       "153         154  154    HarvardX       SW12.9x     11    20  2014     Fall   \n",
       "154         155  155    HarvardX       SW12.9x     11    20  2014     Fall   \n",
       "\n",
       "                                          Course.Title Instructors  ...  \\\n",
       "73             Cosmopolitan Tang: Aristocratic Culture   Peter Bol  ...   \n",
       "74             Cosmopolitan Tang: Aristocratic Culture  Bill Kirby  ...   \n",
       "101               From Global Empire to Global Economy   Peter Bol  ...   \n",
       "102               From Global Empire to Global Economy  Bill Kirby  ...   \n",
       "105                                    The Last Empire   Peter Bol  ...   \n",
       "106                                    The Last Empire  Bill Kirby  ...   \n",
       "126  Invasions, Rebellions, and the end of Imperial...   Peter Bol  ...   \n",
       "127  Invasions, Rebellions, and the end of Imperial...  Bill Kirby  ...   \n",
       "143              Creating China: The Birth of a Nation   Peter Bol  ...   \n",
       "144              Creating China: The Birth of a Nation  Bill Kirby  ...   \n",
       "153                              Communist Liberations   Peter Bol  ...   \n",
       "154                              Communist Liberations  Bill Kirby  ...   \n",
       "\n",
       "    X..Played.Video  X..Posted.in.Forum  X..Grade.Higher.Than.Zero  \\\n",
       "73            77.16               29.14                      50.29   \n",
       "74            77.16               29.14                      50.29   \n",
       "101           75.32               28.69                      48.95   \n",
       "102           75.32               28.69                      48.95   \n",
       "105           76.75               24.22                      49.72   \n",
       "106           76.75               24.22                      49.72   \n",
       "126           80.08               33.98                      52.26   \n",
       "127           80.08               33.98                      52.26   \n",
       "143           78.36               31.46                      51.05   \n",
       "144           78.36               31.46                      51.05   \n",
       "153           79.76               30.14                      50.49   \n",
       "154           79.76               30.14                      50.49   \n",
       "\n",
       "     Total.Course.Hours..Thousands.  Median.Hours.for.Certification  \\\n",
       "73                            33.76                            8.99   \n",
       "74                            33.76                            8.99   \n",
       "101                           24.76                            9.09   \n",
       "102                           24.76                            9.09   \n",
       "105                           31.69                           11.70   \n",
       "106                           31.69                           11.70   \n",
       "126                           22.93                            8.68   \n",
       "127                           22.93                            8.68   \n",
       "143                           23.92                            9.54   \n",
       "144                           23.92                            9.54   \n",
       "153                           23.03                            9.76   \n",
       "154                           23.03                            9.76   \n",
       "\n",
       "     Median.Age  X..Male  X..Female  X..Bachelor.s.Degree.or.Higher  drop_outs  \n",
       "73         34.0    58.97      41.03                           79.40       1975  \n",
       "74         34.0    58.97      41.03                           79.40       1975  \n",
       "101        35.0    64.35      35.65                           82.04        921  \n",
       "102        35.0    64.35      35.65                           82.04        921  \n",
       "105        35.0    60.97      39.03                           80.56       1565  \n",
       "106        35.0    60.97      39.03                           80.56       1565  \n",
       "126        38.0    63.87      36.13                           82.25       1009  \n",
       "127        38.0    63.87      36.13                           82.25       1009  \n",
       "143        37.0    64.33      35.67                           82.68        906  \n",
       "144        37.0    64.33      35.67                           82.68        906  \n",
       "153        37.0    67.11      32.89                           82.98        971  \n",
       "154        37.0    67.11      32.89                           82.98        971  \n",
       "\n",
       "[12 rows x 29 columns]"
      ]
     },
     "execution_count": 47,
     "metadata": {},
     "output_type": "execute_result"
    }
   ],
   "source": [
    "data_4 = data[data['X..Certified'] > 30]\n",
    "data_4"
   ]
  },
  {
   "cell_type": "code",
   "execution_count": 48,
   "metadata": {},
   "outputs": [
    {
     "data": {
      "text/plain": [
       "array(['Humanities, History, Design, Religion, and Education'],\n",
       "      dtype=object)"
      ]
     },
     "execution_count": 48,
     "metadata": {},
     "output_type": "execute_result"
    }
   ],
   "source": [
    "data_4['Course.Subject'].unique()"
   ]
  },
  {
   "cell_type": "markdown",
   "metadata": {},
   "source": [
    "Самыми успешными (по количество студентов, которые завершили начатый курс) являются курсы в области гуманитарных наук."
   ]
  },
  {
   "cell_type": "markdown",
   "metadata": {},
   "source": [
    "### <center> График № 6"
   ]
  },
  {
   "cell_type": "markdown",
   "metadata": {},
   "source": [
    "Построим коррялиционную матрицу, для того, чтобы определить, какие параметры влияют на успешное завершение курса (получение сертификата)."
   ]
  },
  {
   "cell_type": "code",
   "execution_count": 49,
   "metadata": {},
   "outputs": [
    {
     "data": {
      "text/html": [
       "<div>\n",
       "<style scoped>\n",
       "    .dataframe tbody tr th:only-of-type {\n",
       "        vertical-align: middle;\n",
       "    }\n",
       "\n",
       "    .dataframe tbody tr th {\n",
       "        vertical-align: top;\n",
       "    }\n",
       "\n",
       "    .dataframe thead th {\n",
       "        text-align: right;\n",
       "    }\n",
       "</style>\n",
       "<table border=\"1\" class=\"dataframe\">\n",
       "  <thead>\n",
       "    <tr style=\"text-align: right;\">\n",
       "      <th></th>\n",
       "      <th>Year</th>\n",
       "      <th>Honor.Code.Certificates</th>\n",
       "      <th>X..Audited</th>\n",
       "      <th>X..Certified</th>\n",
       "      <th>X..Played.Video</th>\n",
       "      <th>X..Posted.in.Forum</th>\n",
       "      <th>Median.Hours.for.Certification</th>\n",
       "      <th>Median.Age</th>\n",
       "      <th>X..Bachelor.s.Degree.or.Higher</th>\n",
       "    </tr>\n",
       "  </thead>\n",
       "  <tbody>\n",
       "    <tr>\n",
       "      <th>0</th>\n",
       "      <td>1</td>\n",
       "      <td>1</td>\n",
       "      <td>15.04</td>\n",
       "      <td>8.32</td>\n",
       "      <td>83.20</td>\n",
       "      <td>8.17</td>\n",
       "      <td>64.45</td>\n",
       "      <td>26.0</td>\n",
       "      <td>60.68</td>\n",
       "    </tr>\n",
       "    <tr>\n",
       "      <th>1</th>\n",
       "      <td>1</td>\n",
       "      <td>1</td>\n",
       "      <td>14.27</td>\n",
       "      <td>9.22</td>\n",
       "      <td>89.14</td>\n",
       "      <td>14.38</td>\n",
       "      <td>78.53</td>\n",
       "      <td>28.0</td>\n",
       "      <td>63.04</td>\n",
       "    </tr>\n",
       "    <tr>\n",
       "      <th>2</th>\n",
       "      <td>1</td>\n",
       "      <td>1</td>\n",
       "      <td>14.27</td>\n",
       "      <td>9.22</td>\n",
       "      <td>89.14</td>\n",
       "      <td>14.38</td>\n",
       "      <td>78.53</td>\n",
       "      <td>28.0</td>\n",
       "      <td>63.04</td>\n",
       "    </tr>\n",
       "    <tr>\n",
       "      <th>3</th>\n",
       "      <td>1</td>\n",
       "      <td>1</td>\n",
       "      <td>14.27</td>\n",
       "      <td>9.22</td>\n",
       "      <td>89.14</td>\n",
       "      <td>14.38</td>\n",
       "      <td>78.53</td>\n",
       "      <td>28.0</td>\n",
       "      <td>63.04</td>\n",
       "    </tr>\n",
       "    <tr>\n",
       "      <th>4</th>\n",
       "      <td>1</td>\n",
       "      <td>1</td>\n",
       "      <td>17.13</td>\n",
       "      <td>12.49</td>\n",
       "      <td>87.49</td>\n",
       "      <td>14.42</td>\n",
       "      <td>61.28</td>\n",
       "      <td>27.0</td>\n",
       "      <td>58.76</td>\n",
       "    </tr>\n",
       "  </tbody>\n",
       "</table>\n",
       "</div>"
      ],
      "text/plain": [
       "   Year  Honor.Code.Certificates  X..Audited  X..Certified  X..Played.Video  \\\n",
       "0     1                        1       15.04          8.32            83.20   \n",
       "1     1                        1       14.27          9.22            89.14   \n",
       "2     1                        1       14.27          9.22            89.14   \n",
       "3     1                        1       14.27          9.22            89.14   \n",
       "4     1                        1       17.13         12.49            87.49   \n",
       "\n",
       "   X..Posted.in.Forum  Median.Hours.for.Certification  Median.Age  \\\n",
       "0                8.17                           64.45        26.0   \n",
       "1               14.38                           78.53        28.0   \n",
       "2               14.38                           78.53        28.0   \n",
       "3               14.38                           78.53        28.0   \n",
       "4               14.42                           61.28        27.0   \n",
       "\n",
       "   X..Bachelor.s.Degree.or.Higher  \n",
       "0                           60.68  \n",
       "1                           63.04  \n",
       "2                           63.04  \n",
       "3                           63.04  \n",
       "4                           58.76  "
      ]
     },
     "execution_count": 49,
     "metadata": {},
     "output_type": "execute_result"
    }
   ],
   "source": [
    "data_5 = data[['Year', 'Honor.Code.Certificates',\n",
    "              'X..Audited', 'X..Certified', 'X..Played.Video', 'X..Posted.in.Forum',\n",
    "              'Median.Hours.for.Certification', 'Median.Age', 'X..Bachelor.s.Degree.or.Higher']]\n",
    "data_5.head()"
   ]
  },
  {
   "cell_type": "markdown",
   "metadata": {},
   "source": [
    "Тип переменных:"
   ]
  },
  {
   "cell_type": "code",
   "execution_count": 50,
   "metadata": {},
   "outputs": [
    {
     "name": "stdout",
     "output_type": "stream",
     "text": [
      "<class 'pandas.core.frame.DataFrame'>\n",
      "Int64Index: 515 entries, 0 to 515\n",
      "Data columns (total 9 columns):\n",
      " #   Column                          Non-Null Count  Dtype  \n",
      "---  ------                          --------------  -----  \n",
      " 0   Year                            515 non-null    int64  \n",
      " 1   Honor.Code.Certificates         515 non-null    int64  \n",
      " 2   X..Audited                      515 non-null    float64\n",
      " 3   X..Certified                    515 non-null    float64\n",
      " 4   X..Played.Video                 515 non-null    float64\n",
      " 5   X..Posted.in.Forum              515 non-null    float64\n",
      " 6   Median.Hours.for.Certification  515 non-null    float64\n",
      " 7   Median.Age                      515 non-null    float64\n",
      " 8   X..Bachelor.s.Degree.or.Higher  515 non-null    float64\n",
      "dtypes: float64(7), int64(2)\n",
      "memory usage: 60.2 KB\n"
     ]
    }
   ],
   "source": [
    "data_5.info()"
   ]
  },
  {
   "cell_type": "markdown",
   "metadata": {},
   "source": [
    "Коррялиционная матрица выбрана для того, чтобы посмотреть взаимосвязь между несколькоми числовыми переменными."
   ]
  },
  {
   "cell_type": "code",
   "execution_count": 51,
   "metadata": {},
   "outputs": [
    {
     "data": {
      "image/png": "[encoded data removed]",
      "text/plain": [
       "<Figure size 864x864 with 2 Axes>"
      ]
     },
     "metadata": {
      "needs_background": "light"
     },
     "output_type": "display_data"
    }
   ],
   "source": [
    "sns.heatmap(data_5.corr(), annot = True, cmap = 'RdYlGn', linewidths = 0.2) \n",
    "fig = plt.gcf()\n",
    "fig.set_size_inches(12,12)\n",
    "plt.show()"
   ]
  },
  {
   "cell_type": "markdown",
   "metadata": {},
   "source": [
    "Переменные, которые предопределяют успешное завершение курса:\n",
    "* доля тех, кто писал на форуме курса к общему количеству зарегистрированных учащихся (в %);\n",
    "* доля тех, кто прошел ½ курса к общему количеству зарегистрированных учащихся (в %);\n",
    "* среднее значение возраста всех зарегистрированных учащихся на курс.\n",
    "\n",
    "Переменные, которые предопределяют вероятный провал курса:\n",
    "* среднее значение часов, которое нужно потратить для того, чтобы получить сертификат.\n"
   ]
  },
  {
   "cell_type": "markdown",
   "metadata": {},
   "source": [
    "### <center> График № 7"
   ]
  },
  {
   "cell_type": "markdown",
   "metadata": {},
   "source": [
    "Построим диаграммы размаха доли успешно завершивших курс в зависимости от семестра, в котором изучался курс."
   ]
  },
  {
   "cell_type": "markdown",
   "metadata": {},
   "source": [
    "Тип переменных:\n",
    "* доля студентов, получивших сертификат - числовая;\n",
    "* семестр - категориальная."
   ]
  },
  {
   "cell_type": "code",
   "execution_count": 52,
   "metadata": {},
   "outputs": [
    {
     "data": {
      "text/html": [
       "        <script type=\"text/javascript\">\n",
       "        window.PlotlyConfig = {MathJaxConfig: 'local'};\n",
       "        if (window.MathJax) {MathJax.Hub.Config({SVG: {font: \"STIX-Web\"}});}\n",
       "        if (typeof require !== 'undefined') {\n",
       "        require.undef(\"plotly\");\n",
       "        requirejs.config({\n",
       "            paths: {\n",
       "                'plotly': ['https://cdn.plot.ly/plotly-latest.min']\n",
       "            }\n",
       "        });\n",
       "        require(['plotly'], function(Plotly) {\n",
       "            window._Plotly = Plotly;\n",
       "        });\n",
       "        }\n",
       "        </script>\n",
       "        "
      ]
     },
     "metadata": {},
     "output_type": "display_data"
    }
   ],
   "source": [
    "from plotly.offline import init_notebook_mode, iplot\n",
    "import plotly\n",
    "import plotly.graph_objs as go\n",
    "\n",
    "init_notebook_mode(connected=True)"
   ]
  },
  {
   "cell_type": "code",
   "execution_count": 53,
   "metadata": {},
   "outputs": [
    {
     "data": {
      "application/vnd.plotly.v1+json": {
       "config": {
        "linkText": "Export to plot.ly",
        "plotlyServerURL": "https://plot.ly",
        "showLink": false
       },
       "data": [
        {
         "name": "Fall",
         "type": "box",
         "y": [
          8.32,
          9.22,
          9.22,
          9.22,
          12.49,
          1.11,
          1.11,
          1.11,
          1.11,
          1.11,
          9.64,
          9.64,
          3.19,
          4.15,
          5.07,
          8.44,
          2.4,
          8.7,
          0,
          0,
          5.51,
          3.05,
          8.48,
          8.48,
          8.48,
          8.48,
          8.48,
          8.48,
          1.77,
          8.71,
          8.71,
          2.16,
          7.8,
          7.8,
          0,
          15.89,
          2.5,
          2.5,
          2.5,
          2.5,
          2.5,
          10.12,
          10.62,
          13.94,
          4.24,
          3.13,
          32.3,
          32.3,
          10.15,
          5.44,
          22.15,
          5.26,
          5.26,
          16.6,
          0.17,
          7.7,
          6.07,
          8.53,
          2.43,
          10.62,
          1.23,
          26.83,
          10.22,
          33.87,
          33.87,
          10.77,
          23.37,
          7.82,
          5.79,
          23.86,
          5.79,
          16.68,
          7.21,
          33.98,
          33.98,
          3.65,
          3.65,
          3.65,
          3.65,
          3.65,
          7.36,
          6.27,
          6.27,
          6.27,
          2.34,
          2.34,
          2.34,
          3.89,
          2.08,
          6.77,
          6.96,
          15.17,
          15.17,
          15.17,
          11.41,
          11.41,
          18.71,
          20.84,
          19.4,
          15.48,
          15.17,
          28.51,
          12.84,
          12.84,
          19.43,
          4.78,
          4.78,
          4.78,
          3.25,
          3.25,
          3.25,
          8.7,
          0.35,
          1.55,
          1.55,
          1.55,
          1.55,
          1.55,
          2.78,
          2.78,
          2.78,
          2.78,
          2.78,
          1.71,
          1.71,
          1.71,
          1.71,
          1.71,
          12.59,
          12.59,
          12.59,
          12.59,
          7.87,
          25.64,
          25.81,
          22.11,
          5.62,
          1.45,
          1.45,
          1.45,
          0.92,
          0.92,
          4.54,
          4.54,
          16.86,
          10.07,
          4.28,
          7.98,
          7.98,
          7.98,
          12.2,
          12.2,
          12.2,
          3.9,
          3.9,
          13.19,
          13.19,
          12.62,
          12.62,
          13.58,
          13.58,
          14.32,
          14.32,
          16.78,
          16.78,
          16.78,
          16.78,
          16.78,
          16.78,
          16.78,
          11.64,
          11.64,
          11.64,
          11.64,
          11.64,
          6.86,
          6.86,
          10.5,
          10.5,
          17.4,
          17.4,
          13.27,
          13.27,
          11.65,
          11.65,
          5.14,
          5.14,
          5.14,
          8.63,
          12.15,
          12.56,
          7.97,
          7.97,
          7.97,
          4.78,
          4.78,
          4.78,
          3.53,
          4.63,
          20.05,
          7.29,
          7.29,
          7.29,
          11.64,
          1.24,
          1.24,
          0.56,
          0.56,
          2.94
         ]
        },
        {
         "name": "Spring",
         "type": "box",
         "y": [
          5.07,
          6.61,
          15.86,
          15.86,
          4.4,
          4.4,
          4.4,
          4.4,
          4.4,
          4.4,
          4.4,
          6.58,
          11.36,
          11.36,
          11.36,
          11.36,
          11.36,
          11.36,
          5.41,
          5.41,
          9.35,
          9.35,
          0.47,
          20.54,
          20.54,
          4.59,
          4.47,
          0.39,
          0.39,
          10.57,
          10.57,
          2.25,
          30.01,
          30.01,
          5.72,
          9.12,
          9.12,
          15.35,
          15.35,
          15.35,
          15.35,
          5.7,
          0.85,
          11.42,
          11.42,
          4.71,
          4.71,
          5.62,
          26.49,
          26.49,
          0,
          4.77,
          4.77,
          13.28,
          13.28,
          4.75,
          7.47,
          7.02,
          2.03,
          2.03,
          32.1,
          32.1,
          0.51,
          21.46,
          21.46,
          26.99,
          5.68,
          9.57,
          9.57,
          11.28,
          14.55,
          2.88,
          8.74,
          4.36,
          6.2,
          1.97,
          9.45,
          0.88,
          0.24,
          0.24,
          7.75,
          7.75,
          1.82,
          1.82,
          1.82,
          1.95,
          1.95,
          25.96,
          13.72,
          0.57,
          3.59,
          1.67,
          12.6,
          12.6,
          11.7,
          1.78,
          6.89,
          5.18,
          5.18,
          5.18,
          11.58,
          11.58,
          6.54,
          11.16,
          9.28,
          5.57,
          5.57,
          6.62,
          5.45,
          9.48,
          2.84,
          3.36,
          10.3,
          10.3,
          1.06,
          8.85,
          8.64,
          11.23,
          8.52,
          1.52,
          1.52,
          16.17,
          1.76,
          1.76,
          1.76,
          5.88,
          5.88,
          5.88,
          8.32,
          4.07,
          4.07,
          4.07,
          13.3,
          13.3,
          13.3,
          13.85,
          7.89,
          1.31,
          4.03,
          1.9,
          1.9,
          1.9,
          0.14,
          0.14,
          0.78,
          0.78,
          0.78,
          0.78,
          0.78,
          0.78,
          0.78,
          0.78,
          0.78,
          0.59,
          0.59,
          13.22,
          8.52,
          0.16,
          1.33,
          1.33,
          1.33,
          0.62,
          0.62,
          6.96,
          6.96,
          11.65,
          11.65,
          11.65,
          11.65,
          0.6,
          0.6,
          1.27,
          3.66,
          3.66,
          3.66,
          1.23,
          4.43,
          2.15,
          2.15,
          0.21,
          0.21,
          1.97,
          1.97,
          1.97,
          1.97,
          1.97,
          6.21,
          2.13,
          2.13,
          2.13,
          2.13,
          2.13,
          2.13,
          1.35,
          1.48,
          10.39,
          4.29,
          4.29,
          4.29,
          4.29,
          4.29,
          4.29,
          4.29,
          4.29,
          4.29,
          0.7,
          2.53,
          5.13,
          5.13,
          5.13,
          0.75,
          0.75,
          1.22,
          1.22,
          1.22,
          2.83,
          2.83,
          3.59
         ]
        },
        {
         "name": "Summer",
         "type": "box",
         "y": [
          11.85,
          11.85,
          6.73,
          6.73,
          13.31,
          4.6,
          30.09,
          30.09,
          3.88,
          10.17,
          5.42,
          10.42,
          10.42,
          7.7,
          6.02,
          0,
          10.71,
          3,
          1.99,
          1.99,
          7.93,
          9.74,
          6.96,
          2.08,
          2.98,
          3.6,
          6.18,
          6.18,
          5.63,
          9.72,
          9.72,
          1.82,
          2.49,
          2.49,
          1.03,
          14.49,
          14.49,
          14.49,
          10.42,
          4.02,
          4.02,
          1.07,
          2.07,
          6.63,
          12.12,
          12.12,
          12.12,
          12.12,
          1.24,
          1.24,
          3.23,
          1.19,
          1.46,
          1.91,
          1.91,
          1.91,
          1.91,
          1.91,
          4.46,
          4.46,
          4.46,
          4.23,
          7.95,
          7.95,
          7.95,
          7.95,
          7.95,
          7.95,
          7.95,
          1.15,
          1.15,
          1.39,
          0.15,
          0.15,
          0.15,
          0.15,
          0.15,
          0.12,
          0.12,
          0.12,
          0.12,
          0.12,
          2.78,
          1.54,
          5.33,
          5.33,
          3.25,
          0.7
         ]
        }
       ],
       "layout": {
        "template": {
         "data": {
          "bar": [
           {
            "error_x": {
             "color": "#2a3f5f"
            },
            "error_y": {
             "color": "#2a3f5f"
            },
            "marker": {
             "line": {
              "color": "#E5ECF6",
              "width": 0.5
             }
            },
            "type": "bar"
           }
          ],
          "barpolar": [
           {
            "marker": {
             "line": {
              "color": "#E5ECF6",
              "width": 0.5
             }
            },
            "type": "barpolar"
           }
          ],
          "carpet": [
           {
            "aaxis": {
             "endlinecolor": "#2a3f5f",
             "gridcolor": "white",
             "linecolor": "white",
             "minorgridcolor": "white",
             "startlinecolor": "#2a3f5f"
            },
            "baxis": {
             "endlinecolor": "#2a3f5f",
             "gridcolor": "white",
             "linecolor": "white",
             "minorgridcolor": "white",
             "startlinecolor": "#2a3f5f"
            },
            "type": "carpet"
           }
          ],
          "choropleth": [
           {
            "colorbar": {
             "outlinewidth": 0,
             "ticks": ""
            },
            "type": "choropleth"
           }
          ],
          "contour": [
           {
            "colorbar": {
             "outlinewidth": 0,
             "ticks": ""
            },
            "colorscale": [
             [
              0,
              "#0d0887"
             ],
             [
              0.1111111111111111,
              "#46039f"
             ],
             [
              0.2222222222222222,
              "#7201a8"
             ],
             [
              0.3333333333333333,
              "#9c179e"
             ],
             [
              0.4444444444444444,
              "#bd3786"
             ],
             [
              0.5555555555555556,
              "#d8576b"
             ],
             [
              0.6666666666666666,
              "#ed7953"
             ],
             [
              0.7777777777777778,
              "#fb9f3a"
             ],
             [
              0.8888888888888888,
              "#fdca26"
             ],
             [
              1,
              "#f0f921"
             ]
            ],
            "type": "contour"
           }
          ],
          "contourcarpet": [
           {
            "colorbar": {
             "outlinewidth": 0,
             "ticks": ""
            },
            "type": "contourcarpet"
           }
          ],
          "heatmap": [
           {
            "colorbar": {
             "outlinewidth": 0,
             "ticks": ""
            },
            "colorscale": [
             [
              0,
              "#0d0887"
             ],
             [
              0.1111111111111111,
              "#46039f"
             ],
             [
              0.2222222222222222,
              "#7201a8"
             ],
             [
              0.3333333333333333,
              "#9c179e"
             ],
             [
              0.4444444444444444,
              "#bd3786"
             ],
             [
              0.5555555555555556,
              "#d8576b"
             ],
             [
              0.6666666666666666,
              "#ed7953"
             ],
             [
              0.7777777777777778,
              "#fb9f3a"
             ],
             [
              0.8888888888888888,
              "#fdca26"
             ],
             [
              1,
              "#f0f921"
             ]
            ],
            "type": "heatmap"
           }
          ],
          "heatmapgl": [
           {
            "colorbar": {
             "outlinewidth": 0,
             "ticks": ""
            },
            "colorscale": [
             [
              0,
              "#0d0887"
             ],
             [
              0.1111111111111111,
              "#46039f"
             ],
             [
              0.2222222222222222,
              "#7201a8"
             ],
             [
              0.3333333333333333,
              "#9c179e"
             ],
             [
              0.4444444444444444,
              "#bd3786"
             ],
             [
              0.5555555555555556,
              "#d8576b"
             ],
             [
              0.6666666666666666,
              "#ed7953"
             ],
             [
              0.7777777777777778,
              "#fb9f3a"
             ],
             [
              0.8888888888888888,
              "#fdca26"
             ],
             [
              1,
              "#f0f921"
             ]
            ],
            "type": "heatmapgl"
           }
          ],
          "histogram": [
           {
            "marker": {
             "colorbar": {
              "outlinewidth": 0,
              "ticks": ""
             }
            },
            "type": "histogram"
           }
          ],
          "histogram2d": [
           {
            "colorbar": {
             "outlinewidth": 0,
             "ticks": ""
            },
            "colorscale": [
             [
              0,
              "#0d0887"
             ],
             [
              0.1111111111111111,
              "#46039f"
             ],
             [
              0.2222222222222222,
              "#7201a8"
             ],
             [
              0.3333333333333333,
              "#9c179e"
             ],
             [
              0.4444444444444444,
              "#bd3786"
             ],
             [
              0.5555555555555556,
              "#d8576b"
             ],
             [
              0.6666666666666666,
              "#ed7953"
             ],
             [
              0.7777777777777778,
              "#fb9f3a"
             ],
             [
              0.8888888888888888,
              "#fdca26"
             ],
             [
              1,
              "#f0f921"
             ]
            ],
            "type": "histogram2d"
           }
          ],
          "histogram2dcontour": [
           {
            "colorbar": {
             "outlinewidth": 0,
             "ticks": ""
            },
            "colorscale": [
             [
              0,
              "#0d0887"
             ],
             [
              0.1111111111111111,
              "#46039f"
             ],
             [
              0.2222222222222222,
              "#7201a8"
             ],
             [
              0.3333333333333333,
              "#9c179e"
             ],
             [
              0.4444444444444444,
              "#bd3786"
             ],
             [
              0.5555555555555556,
              "#d8576b"
             ],
             [
              0.6666666666666666,
              "#ed7953"
             ],
             [
              0.7777777777777778,
              "#fb9f3a"
             ],
             [
              0.8888888888888888,
              "#fdca26"
             ],
             [
              1,
              "#f0f921"
             ]
            ],
            "type": "histogram2dcontour"
           }
          ],
          "mesh3d": [
           {
            "colorbar": {
             "outlinewidth": 0,
             "ticks": ""
            },
            "type": "mesh3d"
           }
          ],
          "parcoords": [
           {
            "line": {
             "colorbar": {
              "outlinewidth": 0,
              "ticks": ""
             }
            },
            "type": "parcoords"
           }
          ],
          "pie": [
           {
            "automargin": true,
            "type": "pie"
           }
          ],
          "scatter": [
           {
            "marker": {
             "colorbar": {
              "outlinewidth": 0,
              "ticks": ""
             }
            },
            "type": "scatter"
           }
          ],
          "scatter3d": [
           {
            "line": {
             "colorbar": {
              "outlinewidth": 0,
              "ticks": ""
             }
            },
            "marker": {
             "colorbar": {
              "outlinewidth": 0,
              "ticks": ""
             }
            },
            "type": "scatter3d"
           }
          ],
          "scattercarpet": [
           {
            "marker": {
             "colorbar": {
              "outlinewidth": 0,
              "ticks": ""
             }
            },
            "type": "scattercarpet"
           }
          ],
          "scattergeo": [
           {
            "marker": {
             "colorbar": {
              "outlinewidth": 0,
              "ticks": ""
             }
            },
            "type": "scattergeo"
           }
          ],
          "scattergl": [
           {
            "marker": {
             "colorbar": {
              "outlinewidth": 0,
              "ticks": ""
             }
            },
            "type": "scattergl"
           }
          ],
          "scattermapbox": [
           {
            "marker": {
             "colorbar": {
              "outlinewidth": 0,
              "ticks": ""
             }
            },
            "type": "scattermapbox"
           }
          ],
          "scatterpolar": [
           {
            "marker": {
             "colorbar": {
              "outlinewidth": 0,
              "ticks": ""
             }
            },
            "type": "scatterpolar"
           }
          ],
          "scatterpolargl": [
           {
            "marker": {
             "colorbar": {
              "outlinewidth": 0,
              "ticks": ""
             }
            },
            "type": "scatterpolargl"
           }
          ],
          "scatterternary": [
           {
            "marker": {
             "colorbar": {
              "outlinewidth": 0,
              "ticks": ""
             }
            },
            "type": "scatterternary"
           }
          ],
          "surface": [
           {
            "colorbar": {
             "outlinewidth": 0,
             "ticks": ""
            },
            "colorscale": [
             [
              0,
              "#0d0887"
             ],
             [
              0.1111111111111111,
              "#46039f"
             ],
             [
              0.2222222222222222,
              "#7201a8"
             ],
             [
              0.3333333333333333,
              "#9c179e"
             ],
             [
              0.4444444444444444,
              "#bd3786"
             ],
             [
              0.5555555555555556,
              "#d8576b"
             ],
             [
              0.6666666666666666,
              "#ed7953"
             ],
             [
              0.7777777777777778,
              "#fb9f3a"
             ],
             [
              0.8888888888888888,
              "#fdca26"
             ],
             [
              1,
              "#f0f921"
             ]
            ],
            "type": "surface"
           }
          ],
          "table": [
           {
            "cells": {
             "fill": {
              "color": "#EBF0F8"
             },
             "line": {
              "color": "white"
             }
            },
            "header": {
             "fill": {
              "color": "#C8D4E3"
             },
             "line": {
              "color": "white"
             }
            },
            "type": "table"
           }
          ]
         },
         "layout": {
          "annotationdefaults": {
           "arrowcolor": "#2a3f5f",
           "arrowhead": 0,
           "arrowwidth": 1
          },
          "coloraxis": {
           "colorbar": {
            "outlinewidth": 0,
            "ticks": ""
           }
          },
          "colorscale": {
           "diverging": [
            [
             0,
             "#8e0152"
            ],
            [
             0.1,
             "#c51b7d"
            ],
            [
             0.2,
             "#de77ae"
            ],
            [
             0.3,
             "#f1b6da"
            ],
            [
             0.4,
             "#fde0ef"
            ],
            [
             0.5,
             "#f7f7f7"
            ],
            [
             0.6,
             "#e6f5d0"
            ],
            [
             0.7,
             "#b8e186"
            ],
            [
             0.8,
             "#7fbc41"
            ],
            [
             0.9,
             "#4d9221"
            ],
            [
             1,
             "#276419"
            ]
           ],
           "sequential": [
            [
             0,
             "#0d0887"
            ],
            [
             0.1111111111111111,
             "#46039f"
            ],
            [
             0.2222222222222222,
             "#7201a8"
            ],
            [
             0.3333333333333333,
             "#9c179e"
            ],
            [
             0.4444444444444444,
             "#bd3786"
            ],
            [
             0.5555555555555556,
             "#d8576b"
            ],
            [
             0.6666666666666666,
             "#ed7953"
            ],
            [
             0.7777777777777778,
             "#fb9f3a"
            ],
            [
             0.8888888888888888,
             "#fdca26"
            ],
            [
             1,
             "#f0f921"
            ]
           ],
           "sequentialminus": [
            [
             0,
             "#0d0887"
            ],
            [
             0.1111111111111111,
             "#46039f"
            ],
            [
             0.2222222222222222,
             "#7201a8"
            ],
            [
             0.3333333333333333,
             "#9c179e"
            ],
            [
             0.4444444444444444,
             "#bd3786"
            ],
            [
             0.5555555555555556,
             "#d8576b"
            ],
            [
             0.6666666666666666,
             "#ed7953"
            ],
            [
             0.7777777777777778,
             "#fb9f3a"
            ],
            [
             0.8888888888888888,
             "#fdca26"
            ],
            [
             1,
             "#f0f921"
            ]
           ]
          },
          "colorway": [
           "#636efa",
           "#EF553B",
           "#00cc96",
           "#ab63fa",
           "#FFA15A",
           "#19d3f3",
           "#FF6692",
           "#B6E880",
           "#FF97FF",
           "#FECB52"
          ],
          "font": {
           "color": "#2a3f5f"
          },
          "geo": {
           "bgcolor": "white",
           "lakecolor": "white",
           "landcolor": "#E5ECF6",
           "showlakes": true,
           "showland": true,
           "subunitcolor": "white"
          },
          "hoverlabel": {
           "align": "left"
          },
          "hovermode": "closest",
          "mapbox": {
           "style": "light"
          },
          "paper_bgcolor": "white",
          "plot_bgcolor": "#E5ECF6",
          "polar": {
           "angularaxis": {
            "gridcolor": "white",
            "linecolor": "white",
            "ticks": ""
           },
           "bgcolor": "#E5ECF6",
           "radialaxis": {
            "gridcolor": "white",
            "linecolor": "white",
            "ticks": ""
           }
          },
          "scene": {
           "xaxis": {
            "backgroundcolor": "#E5ECF6",
            "gridcolor": "white",
            "gridwidth": 2,
            "linecolor": "white",
            "showbackground": true,
            "ticks": "",
            "zerolinecolor": "white"
           },
           "yaxis": {
            "backgroundcolor": "#E5ECF6",
            "gridcolor": "white",
            "gridwidth": 2,
            "linecolor": "white",
            "showbackground": true,
            "ticks": "",
            "zerolinecolor": "white"
           },
           "zaxis": {
            "backgroundcolor": "#E5ECF6",
            "gridcolor": "white",
            "gridwidth": 2,
            "linecolor": "white",
            "showbackground": true,
            "ticks": "",
            "zerolinecolor": "white"
           }
          },
          "shapedefaults": {
           "line": {
            "color": "#2a3f5f"
           }
          },
          "ternary": {
           "aaxis": {
            "gridcolor": "white",
            "linecolor": "white",
            "ticks": ""
           },
           "baxis": {
            "gridcolor": "white",
            "linecolor": "white",
            "ticks": ""
           },
           "bgcolor": "#E5ECF6",
           "caxis": {
            "gridcolor": "white",
            "linecolor": "white",
            "ticks": ""
           }
          },
          "title": {
           "x": 0.05
          },
          "xaxis": {
           "automargin": true,
           "gridcolor": "white",
           "linecolor": "white",
           "ticks": "",
           "title": {
            "standoff": 15
           },
           "zerolinecolor": "white",
           "zerolinewidth": 2
          },
          "yaxis": {
           "automargin": true,
           "gridcolor": "white",
           "linecolor": "white",
           "ticks": "",
           "title": {
            "standoff": 15
           },
           "zerolinecolor": "white",
           "zerolinewidth": 2
          }
         }
        }
       }
      },
      "text/html": [
       "<div>\n",
       "        \n",
       "        \n",
       "            <div id=\"534503d0-1315-4c6e-ad07-f60026796cc5\" class=\"plotly-graph-div\" style=\"height:525px; width:100%;\"></div>\n",
       "            <script type=\"text/javascript\">\n",
       "                require([\"plotly\"], function(Plotly) {\n",
       "                    window.PLOTLYENV=window.PLOTLYENV || {};\n",
       "                    \n",
       "                if (document.getElementById(\"534503d0-1315-4c6e-ad07-f60026796cc5\")) {\n",
       "                    Plotly.newPlot(\n",
       "                        '534503d0-1315-4c6e-ad07-f60026796cc5',\n",
       "                        [{\"name\": \"Fall\", \"type\": \"box\", \"y\": [8.32, 9.22, 9.22, 9.22, 12.49, 1.11, 1.11, 1.11, 1.11, 1.11, 9.64, 9.64, 3.19, 4.15, 5.07, 8.44, 2.4, 8.7, 0.0, 0.0, 5.51, 3.05, 8.48, 8.48, 8.48, 8.48, 8.48, 8.48, 1.77, 8.71, 8.71, 2.16, 7.8, 7.8, 0.0, 15.89, 2.5, 2.5, 2.5, 2.5, 2.5, 10.12, 10.62, 13.94, 4.24, 3.13, 32.3, 32.3, 10.15, 5.44, 22.15, 5.26, 5.26, 16.6, 0.17, 7.7, 6.07, 8.53, 2.43, 10.62, 1.23, 26.83, 10.22, 33.87, 33.87, 10.77, 23.37, 7.82, 5.79, 23.86, 5.79, 16.68, 7.21, 33.98, 33.98, 3.65, 3.65, 3.65, 3.65, 3.65, 7.36, 6.27, 6.27, 6.27, 2.34, 2.34, 2.34, 3.89, 2.08, 6.77, 6.96, 15.17, 15.17, 15.17, 11.41, 11.41, 18.71, 20.84, 19.4, 15.48, 15.17, 28.51, 12.84, 12.84, 19.43, 4.78, 4.78, 4.78, 3.25, 3.25, 3.25, 8.7, 0.35, 1.55, 1.55, 1.55, 1.55, 1.55, 2.78, 2.78, 2.78, 2.78, 2.78, 1.71, 1.71, 1.71, 1.71, 1.71, 12.59, 12.59, 12.59, 12.59, 7.87, 25.64, 25.81, 22.11, 5.62, 1.45, 1.45, 1.45, 0.92, 0.92, 4.54, 4.54, 16.86, 10.07, 4.28, 7.98, 7.98, 7.98, 12.2, 12.2, 12.2, 3.9, 3.9, 13.19, 13.19, 12.62, 12.62, 13.58, 13.58, 14.32, 14.32, 16.78, 16.78, 16.78, 16.78, 16.78, 16.78, 16.78, 11.64, 11.64, 11.64, 11.64, 11.64, 6.86, 6.86, 10.5, 10.5, 17.4, 17.4, 13.27, 13.27, 11.65, 11.65, 5.14, 5.14, 5.14, 8.63, 12.15, 12.56, 7.97, 7.97, 7.97, 4.78, 4.78, 4.78, 3.53, 4.63, 20.05, 7.29, 7.29, 7.29, 11.64, 1.24, 1.24, 0.56, 0.56, 2.94]}, {\"name\": \"Spring\", \"type\": \"box\", \"y\": [5.07, 6.61, 15.86, 15.86, 4.4, 4.4, 4.4, 4.4, 4.4, 4.4, 4.4, 6.58, 11.36, 11.36, 11.36, 11.36, 11.36, 11.36, 5.41, 5.41, 9.35, 9.35, 0.47, 20.54, 20.54, 4.59, 4.47, 0.39, 0.39, 10.57, 10.57, 2.25, 30.01, 30.01, 5.72, 9.12, 9.12, 15.35, 15.35, 15.35, 15.35, 5.7, 0.85, 11.42, 11.42, 4.71, 4.71, 5.62, 26.49, 26.49, 0.0, 4.77, 4.77, 13.28, 13.28, 4.75, 7.47, 7.02, 2.03, 2.03, 32.1, 32.1, 0.51, 21.46, 21.46, 26.99, 5.68, 9.57, 9.57, 11.28, 14.55, 2.88, 8.74, 4.36, 6.2, 1.97, 9.45, 0.88, 0.24, 0.24, 7.75, 7.75, 1.82, 1.82, 1.82, 1.95, 1.95, 25.96, 13.72, 0.57, 3.59, 1.67, 12.6, 12.6, 11.7, 1.78, 6.89, 5.18, 5.18, 5.18, 11.58, 11.58, 6.54, 11.16, 9.28, 5.57, 5.57, 6.62, 5.45, 9.48, 2.84, 3.36, 10.3, 10.3, 1.06, 8.85, 8.64, 11.23, 8.52, 1.52, 1.52, 16.17, 1.76, 1.76, 1.76, 5.88, 5.88, 5.88, 8.32, 4.07, 4.07, 4.07, 13.3, 13.3, 13.3, 13.85, 7.89, 1.31, 4.03, 1.9, 1.9, 1.9, 0.14, 0.14, 0.78, 0.78, 0.78, 0.78, 0.78, 0.78, 0.78, 0.78, 0.78, 0.59, 0.59, 13.22, 8.52, 0.16, 1.33, 1.33, 1.33, 0.62, 0.62, 6.96, 6.96, 11.65, 11.65, 11.65, 11.65, 0.6, 0.6, 1.27, 3.66, 3.66, 3.66, 1.23, 4.43, 2.15, 2.15, 0.21, 0.21, 1.97, 1.97, 1.97, 1.97, 1.97, 6.21, 2.13, 2.13, 2.13, 2.13, 2.13, 2.13, 1.35, 1.48, 10.39, 4.29, 4.29, 4.29, 4.29, 4.29, 4.29, 4.29, 4.29, 4.29, 0.7, 2.53, 5.13, 5.13, 5.13, 0.75, 0.75, 1.22, 1.22, 1.22, 2.83, 2.83, 3.59]}, {\"name\": \"Summer\", \"type\": \"box\", \"y\": [11.85, 11.85, 6.73, 6.73, 13.31, 4.6, 30.09, 30.09, 3.88, 10.17, 5.42, 10.42, 10.42, 7.7, 6.02, 0.0, 10.71, 3.0, 1.99, 1.99, 7.93, 9.74, 6.96, 2.08, 2.98, 3.6, 6.18, 6.18, 5.63, 9.72, 9.72, 1.82, 2.49, 2.49, 1.03, 14.49, 14.49, 14.49, 10.42, 4.02, 4.02, 1.07, 2.07, 6.63, 12.12, 12.12, 12.12, 12.12, 1.24, 1.24, 3.23, 1.19, 1.46, 1.91, 1.91, 1.91, 1.91, 1.91, 4.46, 4.46, 4.46, 4.23, 7.95, 7.95, 7.95, 7.95, 7.95, 7.95, 7.95, 1.15, 1.15, 1.39, 0.15, 0.15, 0.15, 0.15, 0.15, 0.12, 0.12, 0.12, 0.12, 0.12, 2.78, 1.54, 5.33, 5.33, 3.25, 0.7]}],\n",
       "                        {\"template\": {\"data\": {\"bar\": [{\"error_x\": {\"color\": \"#2a3f5f\"}, \"error_y\": {\"color\": \"#2a3f5f\"}, \"marker\": {\"line\": {\"color\": \"#E5ECF6\", \"width\": 0.5}}, \"type\": \"bar\"}], \"barpolar\": [{\"marker\": {\"line\": {\"color\": \"#E5ECF6\", \"width\": 0.5}}, \"type\": \"barpolar\"}], \"carpet\": [{\"aaxis\": {\"endlinecolor\": \"#2a3f5f\", \"gridcolor\": \"white\", \"linecolor\": \"white\", \"minorgridcolor\": \"white\", \"startlinecolor\": \"#2a3f5f\"}, \"baxis\": {\"endlinecolor\": \"#2a3f5f\", \"gridcolor\": \"white\", \"linecolor\": \"white\", \"minorgridcolor\": \"white\", \"startlinecolor\": \"#2a3f5f\"}, \"type\": \"carpet\"}], \"choropleth\": [{\"colorbar\": {\"outlinewidth\": 0, \"ticks\": \"\"}, \"type\": \"choropleth\"}], \"contour\": [{\"colorbar\": {\"outlinewidth\": 0, \"ticks\": \"\"}, \"colorscale\": [[0.0, \"#0d0887\"], [0.1111111111111111, \"#46039f\"], [0.2222222222222222, \"#7201a8\"], [0.3333333333333333, \"#9c179e\"], [0.4444444444444444, \"#bd3786\"], [0.5555555555555556, \"#d8576b\"], [0.6666666666666666, \"#ed7953\"], [0.7777777777777778, \"#fb9f3a\"], [0.8888888888888888, \"#fdca26\"], [1.0, \"#f0f921\"]], \"type\": \"contour\"}], \"contourcarpet\": [{\"colorbar\": {\"outlinewidth\": 0, \"ticks\": \"\"}, \"type\": \"contourcarpet\"}], \"heatmap\": [{\"colorbar\": {\"outlinewidth\": 0, \"ticks\": \"\"}, \"colorscale\": [[0.0, \"#0d0887\"], [0.1111111111111111, \"#46039f\"], [0.2222222222222222, \"#7201a8\"], [0.3333333333333333, \"#9c179e\"], [0.4444444444444444, \"#bd3786\"], [0.5555555555555556, \"#d8576b\"], [0.6666666666666666, \"#ed7953\"], [0.7777777777777778, \"#fb9f3a\"], [0.8888888888888888, \"#fdca26\"], [1.0, \"#f0f921\"]], \"type\": \"heatmap\"}], \"heatmapgl\": [{\"colorbar\": {\"outlinewidth\": 0, \"ticks\": \"\"}, \"colorscale\": [[0.0, \"#0d0887\"], [0.1111111111111111, \"#46039f\"], [0.2222222222222222, \"#7201a8\"], [0.3333333333333333, \"#9c179e\"], [0.4444444444444444, \"#bd3786\"], [0.5555555555555556, \"#d8576b\"], [0.6666666666666666, \"#ed7953\"], [0.7777777777777778, \"#fb9f3a\"], [0.8888888888888888, \"#fdca26\"], [1.0, \"#f0f921\"]], \"type\": \"heatmapgl\"}], \"histogram\": [{\"marker\": {\"colorbar\": {\"outlinewidth\": 0, \"ticks\": \"\"}}, \"type\": \"histogram\"}], \"histogram2d\": [{\"colorbar\": {\"outlinewidth\": 0, \"ticks\": \"\"}, \"colorscale\": [[0.0, \"#0d0887\"], [0.1111111111111111, \"#46039f\"], [0.2222222222222222, \"#7201a8\"], [0.3333333333333333, \"#9c179e\"], [0.4444444444444444, \"#bd3786\"], [0.5555555555555556, \"#d8576b\"], [0.6666666666666666, \"#ed7953\"], [0.7777777777777778, \"#fb9f3a\"], [0.8888888888888888, \"#fdca26\"], [1.0, \"#f0f921\"]], \"type\": \"histogram2d\"}], \"histogram2dcontour\": [{\"colorbar\": {\"outlinewidth\": 0, \"ticks\": \"\"}, \"colorscale\": [[0.0, \"#0d0887\"], [0.1111111111111111, \"#46039f\"], [0.2222222222222222, \"#7201a8\"], [0.3333333333333333, \"#9c179e\"], [0.4444444444444444, \"#bd3786\"], [0.5555555555555556, \"#d8576b\"], [0.6666666666666666, \"#ed7953\"], [0.7777777777777778, \"#fb9f3a\"], [0.8888888888888888, \"#fdca26\"], [1.0, \"#f0f921\"]], \"type\": \"histogram2dcontour\"}], \"mesh3d\": [{\"colorbar\": {\"outlinewidth\": 0, \"ticks\": \"\"}, \"type\": \"mesh3d\"}], \"parcoords\": [{\"line\": {\"colorbar\": {\"outlinewidth\": 0, \"ticks\": \"\"}}, \"type\": \"parcoords\"}], \"pie\": [{\"automargin\": true, \"type\": \"pie\"}], \"scatter\": [{\"marker\": {\"colorbar\": {\"outlinewidth\": 0, \"ticks\": \"\"}}, \"type\": \"scatter\"}], \"scatter3d\": [{\"line\": {\"colorbar\": {\"outlinewidth\": 0, \"ticks\": \"\"}}, \"marker\": {\"colorbar\": {\"outlinewidth\": 0, \"ticks\": \"\"}}, \"type\": \"scatter3d\"}], \"scattercarpet\": [{\"marker\": {\"colorbar\": {\"outlinewidth\": 0, \"ticks\": \"\"}}, \"type\": \"scattercarpet\"}], \"scattergeo\": [{\"marker\": {\"colorbar\": {\"outlinewidth\": 0, \"ticks\": \"\"}}, \"type\": \"scattergeo\"}], \"scattergl\": [{\"marker\": {\"colorbar\": {\"outlinewidth\": 0, \"ticks\": \"\"}}, \"type\": \"scattergl\"}], \"scattermapbox\": [{\"marker\": {\"colorbar\": {\"outlinewidth\": 0, \"ticks\": \"\"}}, \"type\": \"scattermapbox\"}], \"scatterpolar\": [{\"marker\": {\"colorbar\": {\"outlinewidth\": 0, \"ticks\": \"\"}}, \"type\": \"scatterpolar\"}], \"scatterpolargl\": [{\"marker\": {\"colorbar\": {\"outlinewidth\": 0, \"ticks\": \"\"}}, \"type\": \"scatterpolargl\"}], \"scatterternary\": [{\"marker\": {\"colorbar\": {\"outlinewidth\": 0, \"ticks\": \"\"}}, \"type\": \"scatterternary\"}], \"surface\": [{\"colorbar\": {\"outlinewidth\": 0, \"ticks\": \"\"}, \"colorscale\": [[0.0, \"#0d0887\"], [0.1111111111111111, \"#46039f\"], [0.2222222222222222, \"#7201a8\"], [0.3333333333333333, \"#9c179e\"], [0.4444444444444444, \"#bd3786\"], [0.5555555555555556, \"#d8576b\"], [0.6666666666666666, \"#ed7953\"], [0.7777777777777778, \"#fb9f3a\"], [0.8888888888888888, \"#fdca26\"], [1.0, \"#f0f921\"]], \"type\": \"surface\"}], \"table\": [{\"cells\": {\"fill\": {\"color\": \"#EBF0F8\"}, \"line\": {\"color\": \"white\"}}, \"header\": {\"fill\": {\"color\": \"#C8D4E3\"}, \"line\": {\"color\": \"white\"}}, \"type\": \"table\"}]}, \"layout\": {\"annotationdefaults\": {\"arrowcolor\": \"#2a3f5f\", \"arrowhead\": 0, \"arrowwidth\": 1}, \"coloraxis\": {\"colorbar\": {\"outlinewidth\": 0, \"ticks\": \"\"}}, \"colorscale\": {\"diverging\": [[0, \"#8e0152\"], [0.1, \"#c51b7d\"], [0.2, \"#de77ae\"], [0.3, \"#f1b6da\"], [0.4, \"#fde0ef\"], [0.5, \"#f7f7f7\"], [0.6, \"#e6f5d0\"], [0.7, \"#b8e186\"], [0.8, \"#7fbc41\"], [0.9, \"#4d9221\"], [1, \"#276419\"]], \"sequential\": [[0.0, \"#0d0887\"], [0.1111111111111111, \"#46039f\"], [0.2222222222222222, \"#7201a8\"], [0.3333333333333333, \"#9c179e\"], [0.4444444444444444, \"#bd3786\"], [0.5555555555555556, \"#d8576b\"], [0.6666666666666666, \"#ed7953\"], [0.7777777777777778, \"#fb9f3a\"], [0.8888888888888888, \"#fdca26\"], [1.0, \"#f0f921\"]], \"sequentialminus\": [[0.0, \"#0d0887\"], [0.1111111111111111, \"#46039f\"], [0.2222222222222222, \"#7201a8\"], [0.3333333333333333, \"#9c179e\"], [0.4444444444444444, \"#bd3786\"], [0.5555555555555556, \"#d8576b\"], [0.6666666666666666, \"#ed7953\"], [0.7777777777777778, \"#fb9f3a\"], [0.8888888888888888, \"#fdca26\"], [1.0, \"#f0f921\"]]}, \"colorway\": [\"#636efa\", \"#EF553B\", \"#00cc96\", \"#ab63fa\", \"#FFA15A\", \"#19d3f3\", \"#FF6692\", \"#B6E880\", \"#FF97FF\", \"#FECB52\"], \"font\": {\"color\": \"#2a3f5f\"}, \"geo\": {\"bgcolor\": \"white\", \"lakecolor\": \"white\", \"landcolor\": \"#E5ECF6\", \"showlakes\": true, \"showland\": true, \"subunitcolor\": \"white\"}, \"hoverlabel\": {\"align\": \"left\"}, \"hovermode\": \"closest\", \"mapbox\": {\"style\": \"light\"}, \"paper_bgcolor\": \"white\", \"plot_bgcolor\": \"#E5ECF6\", \"polar\": {\"angularaxis\": {\"gridcolor\": \"white\", \"linecolor\": \"white\", \"ticks\": \"\"}, \"bgcolor\": \"#E5ECF6\", \"radialaxis\": {\"gridcolor\": \"white\", \"linecolor\": \"white\", \"ticks\": \"\"}}, \"scene\": {\"xaxis\": {\"backgroundcolor\": \"#E5ECF6\", \"gridcolor\": \"white\", \"gridwidth\": 2, \"linecolor\": \"white\", \"showbackground\": true, \"ticks\": \"\", \"zerolinecolor\": \"white\"}, \"yaxis\": {\"backgroundcolor\": \"#E5ECF6\", \"gridcolor\": \"white\", \"gridwidth\": 2, \"linecolor\": \"white\", \"showbackground\": true, \"ticks\": \"\", \"zerolinecolor\": \"white\"}, \"zaxis\": {\"backgroundcolor\": \"#E5ECF6\", \"gridcolor\": \"white\", \"gridwidth\": 2, \"linecolor\": \"white\", \"showbackground\": true, \"ticks\": \"\", \"zerolinecolor\": \"white\"}}, \"shapedefaults\": {\"line\": {\"color\": \"#2a3f5f\"}}, \"ternary\": {\"aaxis\": {\"gridcolor\": \"white\", \"linecolor\": \"white\", \"ticks\": \"\"}, \"baxis\": {\"gridcolor\": \"white\", \"linecolor\": \"white\", \"ticks\": \"\"}, \"bgcolor\": \"#E5ECF6\", \"caxis\": {\"gridcolor\": \"white\", \"linecolor\": \"white\", \"ticks\": \"\"}}, \"title\": {\"x\": 0.05}, \"xaxis\": {\"automargin\": true, \"gridcolor\": \"white\", \"linecolor\": \"white\", \"ticks\": \"\", \"title\": {\"standoff\": 15}, \"zerolinecolor\": \"white\", \"zerolinewidth\": 2}, \"yaxis\": {\"automargin\": true, \"gridcolor\": \"white\", \"linecolor\": \"white\", \"ticks\": \"\", \"title\": {\"standoff\": 15}, \"zerolinecolor\": \"white\", \"zerolinewidth\": 2}}}},\n",
       "                        {\"responsive\": true}\n",
       "                    ).then(function(){\n",
       "                            \n",
       "var gd = document.getElementById('534503d0-1315-4c6e-ad07-f60026796cc5');\n",
       "var x = new MutationObserver(function (mutations, observer) {{\n",
       "        var display = window.getComputedStyle(gd).display;\n",
       "        if (!display || display === 'none') {{\n",
       "            console.log([gd, 'removed!']);\n",
       "            Plotly.purge(gd);\n",
       "            observer.disconnect();\n",
       "        }}\n",
       "}});\n",
       "\n",
       "// Listen for the removal of the full notebook cells\n",
       "var notebookContainer = gd.closest('#notebook-container');\n",
       "if (notebookContainer) {{\n",
       "    x.observe(notebookContainer, {childList: true});\n",
       "}}\n",
       "\n",
       "// Listen for the clearing of the current output cell\n",
       "var outputEl = gd.closest('.output');\n",
       "if (outputEl) {{\n",
       "    x.observe(outputEl, {childList: true});\n",
       "}}\n",
       "\n",
       "                        })\n",
       "                };\n",
       "                });\n",
       "            </script>\n",
       "        </div>"
      ]
     },
     "metadata": {},
     "output_type": "display_data"
    }
   ],
   "source": [
    "df = []\n",
    "for sem in data['semester'].unique():\n",
    "    df.append(\n",
    "        go.Box(y = data[data['semester'] == sem]['X..Certified'], \n",
    "               name = sem)\n",
    "    )\n",
    "iplot(df, show_link = False)"
   ]
  },
  {
   "cell_type": "markdown",
   "metadata": {},
   "source": [
    "Можно предположить, что в осенний семестр доля студентов, успешно завершивших курс, выше, чем в весенний и летний семестры."
   ]
  },
  {
   "cell_type": "code",
   "execution_count": null,
   "metadata": {},
   "outputs": [],
   "source": []
  }
 ],
 "metadata": {
  "kernelspec": {
   "display_name": "Python 3",
   "language": "python",
   "name": "python3"
  },
  "language_info": {
   "codemirror_mode": {
    "name": "ipython",
    "version": 3
   },
   "file_extension": ".py",
   "mimetype": "text/x-python",
   "name": "python",
   "nbconvert_exporter": "python",
   "pygments_lexer": "ipython3",
   "version": "3.7.6"
  }
 },
 "nbformat": 4,
 "nbformat_minor": 4
}
