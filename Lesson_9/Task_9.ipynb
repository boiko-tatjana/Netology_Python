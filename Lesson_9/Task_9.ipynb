{
 "cells": [
  {
   "cell_type": "markdown",
   "metadata": {},
   "source": [
    "## Задание 1"
   ]
  },
  {
   "cell_type": "markdown",
   "metadata": {},
   "source": [
    "Напишите функцию, которая принимает на вход строку и проверяет является ли она валидным транспортным номером. Если да, то функция должна возвращать отдельно номер и регион."
   ]
  },
  {
   "cell_type": "code",
   "execution_count": 1,
   "metadata": {},
   "outputs": [],
   "source": [
    "import re"
   ]
  },
  {
   "cell_type": "code",
   "execution_count": 2,
   "metadata": {},
   "outputs": [],
   "source": [
    "plates = ['к007еу777', 'к007еу77', 'к007еу77к', 'R007еу777', 'к007Еу777']"
   ]
  },
  {
   "cell_type": "code",
   "execution_count": 3,
   "metadata": {},
   "outputs": [],
   "source": [
    "def check_plate(plate):\n",
    "    number = ''\n",
    "    region = ''\n",
    "    plate_parts = re.findall(r'^([а-я]\\d{3}[а-я]{2})(\\d{2,3})$', plate)\n",
    "    if len(plate_parts) == 1:\n",
    "        print('Валидный транспортный номер')\n",
    "        number = plate_parts[0][0]\n",
    "        region = plate_parts[0][1]      \n",
    "    else:\n",
    "        print('Невалидный транспортный номер') \n",
    "    return number, region"
   ]
  },
  {
   "cell_type": "code",
   "execution_count": 4,
   "metadata": {},
   "outputs": [
    {
     "name": "stdout",
     "output_type": "stream",
     "text": [
      "Валидный транспортный номер\n",
      "к007еу 777\n",
      "Валидный транспортный номер\n",
      "к007еу 77\n",
      "Невалидный транспортный номер\n",
      " \n",
      "Невалидный транспортный номер\n",
      " \n",
      "Невалидный транспортный номер\n",
      " \n"
     ]
    }
   ],
   "source": [
    "for plate in plates:\n",
    "    n, r = check_plate(plate)\n",
    "    print(n, r)"
   ]
  },
  {
   "cell_type": "markdown",
   "metadata": {},
   "source": [
    "## Задание 2"
   ]
  },
  {
   "cell_type": "markdown",
   "metadata": {},
   "source": [
    "Постарайтесь написать (в крайнем случае найти) самый полный шаблон для проверки e-mail адресов через регулярное выражение, которая проверяет e-mail адрес на валидность. Можно руководствоваться следующими минимальными требованиями:  \n",
    "* адрес должен содержать специальный символ “@”, который отделяет имя пользователя почтовой системы от доменного имени; \n",
    "* адрес не должен содержать следующие символы:  \n",
    "“пробел”, “,”, “:”, “;”, “!”, “#”, “%”, “*”, “(”, “)”, “=”, “+”, “{”, “}”, \" \" \", \" ’ \", \" / \", \" \\ \" и “|”;\n",
    "* адрес должен состоять только из латинских символов;   \n",
    "* после символа “@” должна быть как минимум одна “.”;    \n",
    "* после последней точки должно быть не менее 2-х и не более 4-х символов, причем наличие цифр не допускается;    \n",
    "* между последней точкой и символом “@” должно быть не менее 2-х символов;   \n",
    "* слева от “@” должно быть не менее четырех символов  "
   ]
  },
  {
   "cell_type": "code",
   "execution_count": 5,
   "metadata": {},
   "outputs": [],
   "source": [
    "emails = ['boiko_tatjana@mail.ru', 'boiko.tatjana.1998@gmail.com', 'boiko_tatjana@bmstu.ru',\n",
    "          'boiko_tatjanamail.ru',\n",
    "          'boiko=tatjana@mail.ru', 'boiko_tatjana@mai+l.ru', 'boiko_tatjana@mail.!ru',\n",
    "          'boiko_Татьяна@mail.ru', \n",
    "          'boiko_tatjana@mailru',\n",
    "          'boiko_tatjana@mail.russia', 'boiko_tatjana@mail.r',\n",
    "          'boiko_tatjana@m.ru',\n",
    "          'b@mail.ru', 'bt@mail.ru', 'bta@mail.ru']"
   ]
  },
  {
   "cell_type": "code",
   "execution_count": 6,
   "metadata": {},
   "outputs": [],
   "source": [
    "pattern = r'^[a-zA-Z0-9-_\\.]{4,}@[a-zA-Z0-9-_]{2,}\\.[a-zA-Z-_]{2,4}$'"
   ]
  },
  {
   "cell_type": "code",
   "execution_count": 7,
   "metadata": {},
   "outputs": [
    {
     "name": "stdout",
     "output_type": "stream",
     "text": [
      "Адрес: boiko_tatjana@mail.ru валидный\n",
      "Адрес: boiko.tatjana.1998@gmail.com валидный\n",
      "Адрес: boiko_tatjana@bmstu.ru валидный\n",
      "Адрес: boiko_tatjanamail.ru невалидный\n",
      "Адрес: boiko=tatjana@mail.ru невалидный\n",
      "Адрес: boiko_tatjana@mai+l.ru невалидный\n",
      "Адрес: boiko_tatjana@mail.!ru невалидный\n",
      "Адрес: boiko_Татьяна@mail.ru невалидный\n",
      "Адрес: boiko_tatjana@mailru невалидный\n",
      "Адрес: boiko_tatjana@mail.russia невалидный\n",
      "Адрес: boiko_tatjana@mail.r невалидный\n",
      "Адрес: boiko_tatjana@m.ru невалидный\n",
      "Адрес: b@mail.ru невалидный\n",
      "Адрес: bt@mail.ru невалидный\n",
      "Адрес: bta@mail.ru невалидный\n"
     ]
    }
   ],
   "source": [
    "for email in emails:\n",
    "    if len (re.findall(pattern, email)) != 0:\n",
    "        print('Адрес:', email, 'валидный')\n",
    "    else:\n",
    "        print('Адрес:', email, 'невалидный')"
   ]
  },
  {
   "cell_type": "markdown",
   "metadata": {},
   "source": [
    "## Задание 3"
   ]
  },
  {
   "cell_type": "markdown",
   "metadata": {},
   "source": [
    "Напишите функцию, которая будет удалять все последовательные повторы слов из заданной строки при помощи регулярных выражений."
   ]
  },
  {
   "cell_type": "code",
   "execution_count": 8,
   "metadata": {},
   "outputs": [],
   "source": [
    "string = 'Быть быть или не быть - вот в чем вопрос вопрос?'"
   ]
  },
  {
   "cell_type": "code",
   "execution_count": 9,
   "metadata": {},
   "outputs": [],
   "source": [
    "def remove_dublicates(string):\n",
    "    return print(re.sub(r'\\b(\\w\\D+)(\\s+\\1)+\\b', r'\\1', string, flags = re.I))"
   ]
  },
  {
   "cell_type": "code",
   "execution_count": 10,
   "metadata": {},
   "outputs": [
    {
     "name": "stdout",
     "output_type": "stream",
     "text": [
      "Быть или не быть - вот в чем вопрос?\n"
     ]
    }
   ],
   "source": [
    "remove_dublicates(string)"
   ]
  },
  {
   "cell_type": "markdown",
   "metadata": {},
   "source": [
    "## Задание 4"
   ]
  },
  {
   "cell_type": "markdown",
   "metadata": {},
   "source": [
    "Напишите функцию, которая будет проверять номер сотового телефона на валидность, если он валиден, то переводить его в формат:\n",
    "+7(xxx)-xxx-xx-xx\n",
    "\n",
    "Постарайтесь предусмотреть как можно больше адекватных форматов изначального ввода номера. Примеры валидных форматов:\n",
    "\n",
    "* +7 955 555-55-55;\n",
    "* 9555555555;\n",
    "* 8(955)555-55-55;\n",
    "* +7 955 555 55 55;\n",
    "* 7(955) 555-55-55;\n",
    "* +7 955+555+55+55."
   ]
  },
  {
   "cell_type": "code",
   "execution_count": 65,
   "metadata": {},
   "outputs": [],
   "source": [
    "numbers = ['+7 955 555-55-55', '9555555555', '8(955)555-55-55', '+7 955 555 55 55',\n",
    "         '7(955) 555-55-55', '+7 955+555+55+55', '8-955-555-55-55', '84951649028',\n",
    "          '849516490']"
   ]
  },
  {
   "cell_type": "code",
   "execution_count": 83,
   "metadata": {},
   "outputs": [],
   "source": [
    "def check_phone(number):\n",
    "    pattern = r'^(\\+7|8|7)?(\\+|\\s|\\(|-)?(\\d{3})(\\s|\\+|\\-|\\))?(\\s)?(\\d{3})(\\+|\\s|\\-)?(\\d{2})(\\+|\\s|\\-)?(\\d{2})$'\n",
    "    right_number = ''\n",
    "    if len(re.findall(pattern, number)) != 0:\n",
    "        if len(re.findall(pattern, number)[0]) == 10:\n",
    "            print('Валидный номер')\n",
    "            right_number = re.sub(pattern, r'+7(\\3)-\\6-\\8-\\10', number)\n",
    "    else:\n",
    "        print('Невалидный номер')\n",
    "        right_number = '---'\n",
    "    return right_number"
   ]
  },
  {
   "cell_type": "code",
   "execution_count": 84,
   "metadata": {},
   "outputs": [
    {
     "name": "stdout",
     "output_type": "stream",
     "text": [
      "Валидный номер\n",
      "+7(955)-555-55-55\n",
      "Валидный номер\n",
      "+7(955)-555-55-55\n",
      "Валидный номер\n",
      "+7(955)-555-55-55\n",
      "Валидный номер\n",
      "+7(955)-555-55-55\n",
      "Валидный номер\n",
      "+7(955)-555-55-55\n",
      "Валидный номер\n",
      "+7(955)-555-55-55\n",
      "Валидный номер\n",
      "+7(955)-555-55-55\n",
      "Валидный номер\n",
      "+7(495)-164-90-28\n",
      "Невалидный номер\n",
      "---\n"
     ]
    }
   ],
   "source": [
    "for number in numbers:\n",
    "    n = check_phone(number)\n",
    "    print(n)"
   ]
  },
  {
   "cell_type": "code",
   "execution_count": null,
   "metadata": {},
   "outputs": [],
   "source": []
  }
 ],
 "metadata": {
  "kernelspec": {
   "display_name": "Python 3",
   "language": "python",
   "name": "python3"
  },
  "language_info": {
   "codemirror_mode": {
    "name": "ipython",
    "version": 3
   },
   "file_extension": ".py",
   "mimetype": "text/x-python",
   "name": "python",
   "nbconvert_exporter": "python",
   "pygments_lexer": "ipython3",
   "version": "3.7.6"
  }
 },
 "nbformat": 4,
 "nbformat_minor": 4
}
