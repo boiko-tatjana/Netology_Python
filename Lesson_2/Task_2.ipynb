{
 "cells": [
  {
   "cell_type": "markdown",
   "metadata": {},
   "source": [
    "**Задание 1**. Даны 2 строки: *long_phrase* и *short_phrase*. \n",
    "Напишите код, который проверяет действительно ли длинная фраза *long_phrase* длиннее короткой *short_phrase*. И выводит *True* или *False* в зависимости от результата сравнения."
   ]
  },
  {
   "cell_type": "code",
   "execution_count": 6,
   "metadata": {},
   "outputs": [],
   "source": [
    "long_phrase = 'Насколько проще было бы писать программы, если бы не заказчики'\n",
    "short_phrase = '640Кб должно хватить для любых задач. Билл Гейтс (по легенде)'"
   ]
  },
  {
   "cell_type": "code",
   "execution_count": 7,
   "metadata": {},
   "outputs": [
    {
     "name": "stdout",
     "output_type": "stream",
     "text": [
      "True\n"
     ]
    }
   ],
   "source": [
    "print(len(long_phrase) > len(short_phrase))"
   ]
  },
  {
   "cell_type": "markdown",
   "metadata": {},
   "source": [
    "**Задание 2**. Дано значение объема файла в байтах (*в мегабайте 2^20 байт*). Напишите перевод этого значения в мегабайты в формате: \"*Объем файла равен 213.68Mb*\"."
   ]
  },
  {
   "cell_type": "code",
   "execution_count": 12,
   "metadata": {},
   "outputs": [
    {
     "name": "stdout",
     "output_type": "stream",
     "text": [
      "Объем файла равен 38.18 Mb\n"
     ]
    }
   ],
   "source": [
    "a = 840\n",
    "print(\"Объем файла равен\", round ((a / (2 ^ 20)), 2), \"Mb\")"
   ]
  },
  {
   "cell_type": "markdown",
   "metadata": {},
   "source": [
    "**Задание 3**. Разработать приложение для определения знака зодиака по дате рождения. Пример:\n",
    "\n",
    "Введите месяц: март\n",
    "\n",
    "Введите число: 6\n",
    "\n",
    "Вывод:\n",
    "Рыбы"
   ]
  },
  {
   "cell_type": "code",
   "execution_count": 11,
   "metadata": {},
   "outputs": [
    {
     "name": "stdout",
     "output_type": "stream",
     "text": [
      "Введите месяц: февраль\n",
      "Введите число: 29\n",
      "Неверное число\n"
     ]
    }
   ],
   "source": [
    "\n",
    "month = input(\"Введите месяц: \")\n",
    "month = month.lower()\n",
    "date = int(input(\"Введите число: \"))\n",
    "if month == \"январь\" :\n",
    "    if 1 <= date <= 19 : print(\"Козерог\")\n",
    "    elif 20 <= date <= 31 : print(\"Водолей\")\n",
    "    else : print(\"Неверное число\")\n",
    "elif month == \"февраль\" :\n",
    "    if 1 <= date <= 19 : print(\"Водолей\")\n",
    "    elif 20 <= date <= 28 : print(\"Рыбы\")\n",
    "    else : print(\"Неверное число\")\n",
    "elif month == \"март\" :\n",
    "    if 1 <= date <= 20 : print(\"Рыбы\")\n",
    "    elif 21 <= date <= 31 : print(\"Овен\")\n",
    "    else : print(\"Неверное число\")\n",
    "elif month == \"апрель\" :\n",
    "    if 1 <= date <= 19 : print(\"Овен\")\n",
    "    elif 20 <= date <= 30 : print(\"Телец\")\n",
    "    else : print(\"Неверное число\")\n",
    "elif month == \"май\" :\n",
    "    if 1 <= date <= 20 : print(\"Телец\")\n",
    "    elif 21 <= date <= 31 : print(\"Близнецы\")\n",
    "    else : print(\"Неверное число\")\n",
    "elif month == \"июнь\" :\n",
    "    if 1 <= date <= 20 : print(\"Близнецы\")\n",
    "    elif 21 <= date <= 30 : print(\"Рак\")\n",
    "    else : print(\"Неверное число\")\n",
    "elif month == \"июль\" :\n",
    "    if 1 <= date <= 22 : print(\"Рак\")\n",
    "    elif 23 <= date <= 31 : print(\"Лев\")\n",
    "    else : print(\"Неверное число\")\n",
    "elif month == \"август\" :\n",
    "    if 1 <= date <= 22 : print(\"Лев\")\n",
    "    elif 23 <= date <= 31 : print(\"Дева\")\n",
    "    else : print(\"Неверное число\")\n",
    "elif month == \"сентябрь\" :\n",
    "    if 1 <= date <= 22 : print(\"Дева\")\n",
    "    elif 23 <= date <= 30 : print(\"Весы\")\n",
    "    else : print(\"Неверное число\")\n",
    "elif month == \"октябрь\" :\n",
    "    if 1 <= date <= 23 : print(\"Весы\")\n",
    "    elif 24 <= date <= 31 : print(\"Скорпион\")\n",
    "    else : print(\"Неверное число\")\n",
    "elif month == \"ноябрь\" :\n",
    "    if 1 <= date <= 22 : print(\"Скорпион\")\n",
    "    elif 23 <= date <= 30 : print(\"Стрелец\")\n",
    "    else : print(\"Неверное число\")\n",
    "elif month == \"декабрь\" :\n",
    "    if 1 <= date <= 21 : print(\"Стрелец\")\n",
    "    elif 22 <= date <= 31 : print(\"Козерог\")\n",
    "    else : print(\"Неверное число\")\n",
    "else: print(\"Неверный месяц\")\n",
    "\n",
    "\n"
   ]
  },
  {
   "cell_type": "code",
   "execution_count": null,
   "metadata": {},
   "outputs": [],
   "source": []
  },
  {
   "cell_type": "markdown",
   "metadata": {},
   "source": [
    "**Задание 4**. Нужно разработать приложение для финансового планирования.\n",
    "Приложение учитывает сколько уходит на ипотеку, \"на жизнь\" и сколько нужно отложить на пенсию.\n",
    "Пользователь вводит:\n",
    "- заработанную плату в месяц.\n",
    "- сколько процентов от ЗП уходит на ипотеку.\n",
    "- сколько процентов от ЗП уходит \"на жизнь\".\n",
    "- сколько раз приходит премия в год.\n",
    "\n",
    "Остальная часть заработанной платы откладывается на пенсию.\n",
    "\n",
    "Также пользователю приходит премия в размере зарплаты, от которой половина уходит на отпуск, а вторая половина откладывается.\n",
    "\n",
    "Программа должна учитывать сколько премий было в год.\n",
    "\n",
    "Нужно вывести сколько денег тратит пользователь на ипотеку и сколько он накопит за год.\n",
    "\n",
    "Пример:\n",
    "\n",
    "Введите заработанную плату в месяц: 100000\n",
    "\n",
    "Введите сколько процентов уходит на ипотеку: 30\n",
    "\n",
    "Введите сколько процентов уходит на жизнь: 50\n",
    "\n",
    "Введите количество премий за год: 2\n",
    "\n",
    "Вывод:\n",
    "На ипотеку было потрачено: 360000 рублей\n",
    "Было накоплено: 340000 рублей"
   ]
  },
  {
   "cell_type": "code",
   "execution_count": 4,
   "metadata": {},
   "outputs": [
    {
     "name": "stdout",
     "output_type": "stream",
     "text": [
      "Введите заработанную плату в месяц: 100000\n",
      "Введите сколько процентов уходит на ипотеку: 30\n",
      "Введите сколько процентов уходит на жизнь: 50\n",
      "Введите количество премий за год: 2\n",
      "На ипотеку было потрачено: 360000 рублей. Было накоплено: 340000 рублей.\n"
     ]
    }
   ],
   "source": [
    "salary = int(input(\"Введите заработанную плату в месяц: \"))\n",
    "prc_mortgage = int(input(\"Введите сколько процентов уходит на ипотеку: \"))\n",
    "prc_life = int(input(\"Введите сколько процентов уходит на жизнь: \"))\n",
    "n_bonus = int(input(\"Введите количество премий за год: \"))\n",
    "\n",
    "bonus = salary * n_bonus\n",
    "salary = salary * 12\n",
    "mortgage = salary * (prc_mortgage / 100)\n",
    "life = salary * (prc_life / 100)\n",
    "\n",
    "spend = mortgage + life + 1/2 * bonus\n",
    "save = salary + bonus - spend\n",
    "\n",
    "\n",
    "\n",
    "print(\"На ипотеку было потрачено:\", round(mortgage) , \"рублей. Было накоплено:\", round(save) , \"рублей.\")\n"
   ]
  },
  {
   "cell_type": "code",
   "execution_count": null,
   "metadata": {},
   "outputs": [],
   "source": []
  }
 ],
 "metadata": {
  "kernelspec": {
   "display_name": "Python 3",
   "language": "python",
   "name": "python3"
  },
  "language_info": {
   "codemirror_mode": {
    "name": "ipython",
    "version": 3
   },
   "file_extension": ".py",
   "mimetype": "text/x-python",
   "name": "python",
   "nbconvert_exporter": "python",
   "pygments_lexer": "ipython3",
   "version": "3.7.6"
  }
 },
 "nbformat": 4,
 "nbformat_minor": 2
}
