{
 "cells": [
  {
   "cell_type": "markdown",
   "metadata": {},
   "source": [
    "**Задание 1**. Дан список с визитами по городам и странам. \n",
    "Напишите код, который возвращает отфильтрованный список geo_logs, содержащий только визиты из России."
   ]
  },
  {
   "cell_type": "code",
   "execution_count": 6,
   "metadata": {},
   "outputs": [
    {
     "data": {
      "text/plain": [
       "[{'visit1': ['Москва', 'Россия']},\n",
       " {'visit3': ['Владимир', 'Россия']},\n",
       " {'visit7': ['Тула', 'Россия']},\n",
       " {'visit8': ['Тула', 'Россия']},\n",
       " {'visit9': ['Курск', 'Россия']},\n",
       " {'visit10': ['Архангельск', 'Россия']}]"
      ]
     },
     "execution_count": 6,
     "metadata": {},
     "output_type": "execute_result"
    }
   ],
   "source": [
    "geo_logs = [\n",
    "    {'visit1': ['Москва', 'Россия']},\n",
    "    {'visit2': ['Дели', 'Индия']},\n",
    "    {'visit3': ['Владимир', 'Россия']},\n",
    "    {'visit4': ['Лиссабон', 'Португалия']},\n",
    "    {'visit5': ['Париж', 'Франция']},\n",
    "    {'visit6': ['Лиссабон', 'Португалия']},\n",
    "    {'visit7': ['Тула', 'Россия']},\n",
    "    {'visit8': ['Тула', 'Россия']},\n",
    "    {'visit9': ['Курск', 'Россия']},\n",
    "    {'visit10': ['Архангельск', 'Россия']}\n",
    "]\n",
    "\n",
    "\n",
    "for line_num in list(range(len(geo_logs) - 1, -1, -1)) :\n",
    "    line = geo_logs[line_num]\n",
    "    for item in line.items():\n",
    "        if item[1][1] != 'Россия':\n",
    "            del(geo_logs[line_num])\n",
    "geo_logs   \n",
    "\n",
    "\n"
   ]
  },
  {
   "cell_type": "markdown",
   "metadata": {},
   "source": [
    "**Задание 2**. Выведите на экран все уникальные гео-ID из значений словаря ids. Т. е. список вида [213, 15, 54, 119, 98, 35]"
   ]
  },
  {
   "cell_type": "code",
   "execution_count": 31,
   "metadata": {},
   "outputs": [
    {
     "name": "stdout",
     "output_type": "stream",
     "text": [
      "[98, 35, 15, 213, 54, 119]\n"
     ]
    }
   ],
   "source": [
    "ids = {'user1': [213, 213, 213, 15, 213], \n",
    "       'user2': [54, 54, 119, 119, 119], \n",
    "       'user3': [213, 98, 98, 35]}\n",
    "\n",
    "list_ids = []\n",
    "for value in ids.values():\n",
    "    for point in value :\n",
    "        list_ids.append(point)\n",
    "print(list(set(list_ids)))  "
   ]
  },
  {
   "cell_type": "markdown",
   "metadata": {},
   "source": [
    "**Задание 3**. Дан список поисковых запросов. Получить распределение количества слов в них. \n",
    "Т. е. поисковых запросов из одного - слова 5%, из двух - 7%, из трех - 3% и т.д."
   ]
  },
  {
   "cell_type": "code",
   "execution_count": 67,
   "metadata": {},
   "outputs": [
    {
     "name": "stdout",
     "output_type": "stream",
     "text": [
      "1 words: 12  %\n",
      "2 words: 38  %\n",
      "3 words: 38  %\n",
      "5 words: 12  %\n"
     ]
    }
   ],
   "source": [
    "# Вариант решения № 1 (через список)\n",
    "# Количество рабочих строк - 18\n",
    "queries = [\n",
    "    'смотреть сериалы онлайн',\n",
    "    'новости спорта',\n",
    "    'афиша кино',\n",
    "    'курс доллара',\n",
    "    'сериалы этим летом',\n",
    "    'курс по питону',\n",
    "    'сериалы про спорт и физкультуру',\n",
    "    'фантастика'\n",
    "]\n",
    "\n",
    "max_len = 0\n",
    "for line in queries :\n",
    "    word_num = line.count(' ') + 1\n",
    "    if max_len < word_num :\n",
    "        max_len = word_num\n",
    "\n",
    "word_counts = []\n",
    "for i in range(max_len) :\n",
    "    word_counts.append(0)\n",
    "\n",
    "for line in queries :\n",
    "    word_num = line.count(' ') + 1\n",
    "    word_counts[word_num-1] += 1\n",
    "\n",
    "\n",
    "query_num = len(queries)\n",
    "if query_num != 0 :\n",
    "    for item in range(max_len) :\n",
    "        if word_counts[item] != 0 :\n",
    "            print(item + 1, 'words:', round(word_counts[item] / query_num * 100, ), ' %')\n",
    "else :\n",
    "    print('no queries')"
   ]
  },
  {
   "cell_type": "code",
   "execution_count": 53,
   "metadata": {},
   "outputs": [
    {
     "name": "stdout",
     "output_type": "stream",
     "text": [
      "1 words: 12  %\n",
      "2 words: 38  %\n",
      "3 words: 38  %\n",
      "5 words: 12  %\n"
     ]
    }
   ],
   "source": [
    "# Вариант решения № 2 (через словарь)\n",
    "# Количество рабочих строк - 12\n",
    "# Наверное, можно еще короче...\n",
    "queries = [\n",
    "    'смотреть сериалы онлайн',\n",
    "    'новости спорта',\n",
    "    'афиша кино',\n",
    "    'курс доллара',\n",
    "    'сериалы этим летом',\n",
    "    'курс по питону',\n",
    "    'сериалы про спорт и физкультуру',\n",
    "    'фантастика'\n",
    "]\n",
    "\n",
    "word_counts = []\n",
    "for line in queries :\n",
    "    word_counts.append(line.count(' ') + 1)\n",
    "word_counts = sorted(list(set(word_counts)))\n",
    "\n",
    "dictionary  = dict.fromkeys(word_counts, 0)\n",
    "\n",
    "for line in queries :\n",
    "    dictionary[line.count(' ') + 1] += 1\n",
    "    \n",
    "if len(queries) != 0 :  \n",
    "    for item in  dictionary.items() :\n",
    "        print(item[0], 'words:', round(item[1] / len(queries) * 100, ), ' %')\n",
    "else :\n",
    "    print('no queries')"
   ]
  },
  {
   "cell_type": "markdown",
   "metadata": {},
   "source": [
    "**Задание 4**. Дана статистика рекламных каналов по объемам продаж. Напишите скрипт, который возвращает название канала с максимальным объемом.\n",
    "Т. е. в данном примере скрипт должен возвращать 'yandex'."
   ]
  },
  {
   "cell_type": "code",
   "execution_count": 65,
   "metadata": {},
   "outputs": [
    {
     "data": {
      "text/plain": [
       "'yandex'"
      ]
     },
     "execution_count": 65,
     "metadata": {},
     "output_type": "execute_result"
    }
   ],
   "source": [
    "stats = {'facebook': 55, 'yandex': 120, 'vk': 115, 'google': 99, 'email': 42, 'ok': 98}\n",
    "\n",
    "max_volume = 0\n",
    "chanal = ' '\n",
    "for item in stats.items() :\n",
    "    if max_volume < item[1] :\n",
    "        max_volume = item[1]\n",
    "        chanal = item[0]\n",
    "chanal"
   ]
  },
  {
   "cell_type": "markdown",
   "metadata": {},
   "source": [
    "**Задание 5**. Напишите код для преобразования произвольного списка вида ['2018-01-01', 'yandex', 'cpc', 100] (он может быть любой длины) в словарь {'2018-01-01': {'yandex': {'cpc': 100}}}"
   ]
  },
  {
   "cell_type": "code",
   "execution_count": 114,
   "metadata": {},
   "outputs": [
    {
     "name": "stdout",
     "output_type": "stream",
     "text": [
      "{1: {2: {5: {9: {10: {11: {111: {1111: '111'}}}}}}}}\n"
     ]
    }
   ],
   "source": [
    "# list_1 = ['2018-01-01', 'yandex', 'cpc', 100]\n",
    "list_1 = [1, 2, 5, 9, 10, 11, 111, 1111, '111']\n",
    "\n",
    "if len(list_1) >= 2 :\n",
    "    value = list_1[-1]\n",
    "    del list_1[-1]\n",
    "\n",
    "    while len(list_1) >= 1 :\n",
    "        key = list_1[-1]\n",
    "        dictionary = {key : value}\n",
    "        value = dictionary\n",
    "        del list_1[-1]\n",
    "    print(dictionary)\n",
    "else :\n",
    "    print('list is too short')"
   ]
  }
 ],
 "metadata": {
  "kernelspec": {
   "display_name": "Python 3",
   "language": "python",
   "name": "python3"
  },
  "language_info": {
   "codemirror_mode": {
    "name": "ipython",
    "version": 3
   },
   "file_extension": ".py",
   "mimetype": "text/x-python",
   "name": "python",
   "nbconvert_exporter": "python",
   "pygments_lexer": "ipython3",
   "version": "3.7.6"
  }
 },
 "nbformat": 4,
 "nbformat_minor": 2
}
